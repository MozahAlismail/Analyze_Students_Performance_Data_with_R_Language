{
 "cells": [
  {
   "cell_type": "markdown",
   "metadata": {},
   "source": [
    "Author: Mozah Alismail\n",
    "\n",
    "# Analyze Students Performance Data with R Language"
   ]
  },
  {
   "cell_type": "markdown",
   "metadata": {},
   "source": [
    "## 0. About Data"
   ]
  },
  {
   "cell_type": "markdown",
   "metadata": {},
   "source": [
    "### Read Dataset Description"
   ]
  },
  {
   "cell_type": "markdown",
   "metadata": {},
   "source": [
    "We want to predict students performance in math in secondary education of two high schools. Please read the description of data set before start.\n",
    "\n",
    " [Dataset Description](https://archive.ics.uci.edu/ml/datasets/student+performance)"
   ]
  },
  {
   "cell_type": "markdown",
   "metadata": {},
   "source": [
    "### Import data"
   ]
  },
  {
   "cell_type": "markdown",
   "metadata": {},
   "source": [
    "<p>\n",
    "here link of raw data set: <a href=\"https://raw.githubusercontent.com/Ruqyai/Course-DS/master/math-raw.csv\"> here</a>.\n",
    "</p>"
   ]
  },
  {
   "cell_type": "markdown",
   "metadata": {},
   "source": [
    "## 1. Load the Data"
   ]
  },
  {
   "cell_type": "markdown",
   "metadata": {},
   "source": [
    "### Load the data"
   ]
  },
  {
   "cell_type": "code",
   "execution_count": 1,
   "metadata": {
    "vscode": {
     "languageId": "r"
    }
   },
   "outputs": [],
   "source": [
    "data <- read.csv(\"math-raw.csv\", stringsAsFactors = TRUE) # Load the data"
   ]
  },
  {
   "cell_type": "code",
   "execution_count": 2,
   "metadata": {
    "vscode": {
     "languageId": "r"
    }
   },
   "outputs": [
    {
     "data": {
      "text/html": [
       "<table class=\"dataframe\">\n",
       "<caption>A data.frame: 10 × 33</caption>\n",
       "<thead>\n",
       "\t<tr><th></th><th scope=col>school</th><th scope=col>sex</th><th scope=col>age</th><th scope=col>address</th><th scope=col>famsize</th><th scope=col>Pstatus</th><th scope=col>Medu</th><th scope=col>Fedu</th><th scope=col>Mjob</th><th scope=col>Fjob</th><th scope=col>⋯</th><th scope=col>famrel</th><th scope=col>freetime</th><th scope=col>goout</th><th scope=col>Dalc</th><th scope=col>Walc</th><th scope=col>health</th><th scope=col>absences</th><th scope=col>G1</th><th scope=col>G2</th><th scope=col>G3</th></tr>\n",
       "\t<tr><th></th><th scope=col>&lt;fct&gt;</th><th scope=col>&lt;fct&gt;</th><th scope=col>&lt;int&gt;</th><th scope=col>&lt;fct&gt;</th><th scope=col>&lt;fct&gt;</th><th scope=col>&lt;fct&gt;</th><th scope=col>&lt;int&gt;</th><th scope=col>&lt;int&gt;</th><th scope=col>&lt;fct&gt;</th><th scope=col>&lt;fct&gt;</th><th scope=col>⋯</th><th scope=col>&lt;int&gt;</th><th scope=col>&lt;fct&gt;</th><th scope=col>&lt;int&gt;</th><th scope=col>&lt;int&gt;</th><th scope=col>&lt;int&gt;</th><th scope=col>&lt;int&gt;</th><th scope=col>&lt;dbl&gt;</th><th scope=col>&lt;int&gt;</th><th scope=col>&lt;int&gt;</th><th scope=col>&lt;int&gt;</th></tr>\n",
       "</thead>\n",
       "<tbody>\n",
       "\t<tr><th scope=row>1</th><td>GP</td><td>F     </td><td>18</td><td>U</td><td>GT3</td><td>A</td><td>4</td><td>4</td><td>at_home </td><td>teacher </td><td>⋯</td><td>4</td><td>?</td><td>4</td><td>1</td><td>1</td><td>3</td><td>NaN</td><td> 5</td><td> 6</td><td> 6</td></tr>\n",
       "\t<tr><th scope=row>2</th><td>GP</td><td>F     </td><td>17</td><td>U</td><td>GT3</td><td>T</td><td>1</td><td>1</td><td>at_home </td><td>other   </td><td>⋯</td><td>5</td><td>?</td><td>3</td><td>1</td><td>1</td><td>3</td><td>NaN</td><td> 5</td><td> 5</td><td> 6</td></tr>\n",
       "\t<tr><th scope=row>3</th><td>GP</td><td>Female</td><td>15</td><td>U</td><td>LE3</td><td>T</td><td>1</td><td>1</td><td>at_home </td><td>other   </td><td>⋯</td><td>4</td><td>3</td><td>2</td><td>2</td><td>3</td><td>3</td><td> 10</td><td> 7</td><td> 8</td><td>10</td></tr>\n",
       "\t<tr><th scope=row>4</th><td>GP</td><td>F     </td><td>15</td><td>U</td><td>GT3</td><td>T</td><td>4</td><td>2</td><td>health  </td><td>services</td><td>⋯</td><td>3</td><td>2</td><td>2</td><td>1</td><td>1</td><td>5</td><td>  2</td><td>15</td><td>14</td><td>15</td></tr>\n",
       "\t<tr><th scope=row>5</th><td>GP</td><td>F     </td><td>16</td><td>U</td><td>GT3</td><td>T</td><td>3</td><td>3</td><td>other   </td><td>other   </td><td>⋯</td><td>4</td><td>3</td><td>2</td><td>1</td><td>2</td><td>5</td><td>  4</td><td> 6</td><td>10</td><td>10</td></tr>\n",
       "\t<tr><th scope=row>6</th><td>GP</td><td>Male  </td><td>16</td><td>U</td><td>LE3</td><td>T</td><td>4</td><td>3</td><td>services</td><td>other   </td><td>⋯</td><td>5</td><td>4</td><td>2</td><td>1</td><td>2</td><td>5</td><td> 10</td><td>15</td><td>15</td><td>15</td></tr>\n",
       "\t<tr><th scope=row>7</th><td>GP</td><td>M     </td><td>16</td><td>U</td><td>LE3</td><td>T</td><td>2</td><td>2</td><td>other   </td><td>other   </td><td>⋯</td><td>4</td><td>4</td><td>4</td><td>1</td><td>1</td><td>3</td><td>  0</td><td>12</td><td>12</td><td>11</td></tr>\n",
       "\t<tr><th scope=row>8</th><td>  </td><td>      </td><td>NA</td><td> </td><td>GT3</td><td>A</td><td>4</td><td>4</td><td>other   </td><td>teacher </td><td>⋯</td><td>4</td><td>1</td><td>4</td><td>1</td><td>1</td><td>1</td><td>  6</td><td> 6</td><td> 5</td><td> 6</td></tr>\n",
       "\t<tr><th scope=row>9</th><td>  </td><td>M     </td><td>15</td><td>U</td><td>LE3</td><td>A</td><td>3</td><td>2</td><td>services</td><td>other   </td><td>⋯</td><td>4</td><td>2</td><td>2</td><td>1</td><td>1</td><td>1</td><td>  0</td><td>16</td><td>18</td><td>19</td></tr>\n",
       "\t<tr><th scope=row>10</th><td>  </td><td>M     </td><td>15</td><td>U</td><td>GT3</td><td>T</td><td>3</td><td>4</td><td>other   </td><td>other   </td><td>⋯</td><td>5</td><td>5</td><td>1</td><td>1</td><td>1</td><td>5</td><td>  0</td><td>14</td><td>15</td><td>15</td></tr>\n",
       "</tbody>\n",
       "</table>\n"
      ],
      "text/latex": [
       "A data.frame: 10 × 33\n",
       "\\begin{tabular}{r|lllllllllllllllllllll}\n",
       "  & school & sex & age & address & famsize & Pstatus & Medu & Fedu & Mjob & Fjob & ⋯ & famrel & freetime & goout & Dalc & Walc & health & absences & G1 & G2 & G3\\\\\n",
       "  & <fct> & <fct> & <int> & <fct> & <fct> & <fct> & <int> & <int> & <fct> & <fct> & ⋯ & <int> & <fct> & <int> & <int> & <int> & <int> & <dbl> & <int> & <int> & <int>\\\\\n",
       "\\hline\n",
       "\t1 & GP & F      & 18 & U & GT3 & A & 4 & 4 & at\\_home  & teacher  & ⋯ & 4 & ? & 4 & 1 & 1 & 3 & NaN &  5 &  6 &  6\\\\\n",
       "\t2 & GP & F      & 17 & U & GT3 & T & 1 & 1 & at\\_home  & other    & ⋯ & 5 & ? & 3 & 1 & 1 & 3 & NaN &  5 &  5 &  6\\\\\n",
       "\t3 & GP & Female & 15 & U & LE3 & T & 1 & 1 & at\\_home  & other    & ⋯ & 4 & 3 & 2 & 2 & 3 & 3 &  10 &  7 &  8 & 10\\\\\n",
       "\t4 & GP & F      & 15 & U & GT3 & T & 4 & 2 & health   & services & ⋯ & 3 & 2 & 2 & 1 & 1 & 5 &   2 & 15 & 14 & 15\\\\\n",
       "\t5 & GP & F      & 16 & U & GT3 & T & 3 & 3 & other    & other    & ⋯ & 4 & 3 & 2 & 1 & 2 & 5 &   4 &  6 & 10 & 10\\\\\n",
       "\t6 & GP & Male   & 16 & U & LE3 & T & 4 & 3 & services & other    & ⋯ & 5 & 4 & 2 & 1 & 2 & 5 &  10 & 15 & 15 & 15\\\\\n",
       "\t7 & GP & M      & 16 & U & LE3 & T & 2 & 2 & other    & other    & ⋯ & 4 & 4 & 4 & 1 & 1 & 3 &   0 & 12 & 12 & 11\\\\\n",
       "\t8 &    &        & NA &   & GT3 & A & 4 & 4 & other    & teacher  & ⋯ & 4 & 1 & 4 & 1 & 1 & 1 &   6 &  6 &  5 &  6\\\\\n",
       "\t9 &    & M      & 15 & U & LE3 & A & 3 & 2 & services & other    & ⋯ & 4 & 2 & 2 & 1 & 1 & 1 &   0 & 16 & 18 & 19\\\\\n",
       "\t10 &    & M      & 15 & U & GT3 & T & 3 & 4 & other    & other    & ⋯ & 5 & 5 & 1 & 1 & 1 & 5 &   0 & 14 & 15 & 15\\\\\n",
       "\\end{tabular}\n"
      ],
      "text/markdown": [
       "\n",
       "A data.frame: 10 × 33\n",
       "\n",
       "| <!--/--> | school &lt;fct&gt; | sex &lt;fct&gt; | age &lt;int&gt; | address &lt;fct&gt; | famsize &lt;fct&gt; | Pstatus &lt;fct&gt; | Medu &lt;int&gt; | Fedu &lt;int&gt; | Mjob &lt;fct&gt; | Fjob &lt;fct&gt; | ⋯ ⋯ | famrel &lt;int&gt; | freetime &lt;fct&gt; | goout &lt;int&gt; | Dalc &lt;int&gt; | Walc &lt;int&gt; | health &lt;int&gt; | absences &lt;dbl&gt; | G1 &lt;int&gt; | G2 &lt;int&gt; | G3 &lt;int&gt; |\n",
       "|---|---|---|---|---|---|---|---|---|---|---|---|---|---|---|---|---|---|---|---|---|---|\n",
       "| 1 | GP | F      | 18 | U | GT3 | A | 4 | 4 | at_home  | teacher  | ⋯ | 4 | ? | 4 | 1 | 1 | 3 | NaN |  5 |  6 |  6 |\n",
       "| 2 | GP | F      | 17 | U | GT3 | T | 1 | 1 | at_home  | other    | ⋯ | 5 | ? | 3 | 1 | 1 | 3 | NaN |  5 |  5 |  6 |\n",
       "| 3 | GP | Female | 15 | U | LE3 | T | 1 | 1 | at_home  | other    | ⋯ | 4 | 3 | 2 | 2 | 3 | 3 |  10 |  7 |  8 | 10 |\n",
       "| 4 | GP | F      | 15 | U | GT3 | T | 4 | 2 | health   | services | ⋯ | 3 | 2 | 2 | 1 | 1 | 5 |   2 | 15 | 14 | 15 |\n",
       "| 5 | GP | F      | 16 | U | GT3 | T | 3 | 3 | other    | other    | ⋯ | 4 | 3 | 2 | 1 | 2 | 5 |   4 |  6 | 10 | 10 |\n",
       "| 6 | GP | Male   | 16 | U | LE3 | T | 4 | 3 | services | other    | ⋯ | 5 | 4 | 2 | 1 | 2 | 5 |  10 | 15 | 15 | 15 |\n",
       "| 7 | GP | M      | 16 | U | LE3 | T | 2 | 2 | other    | other    | ⋯ | 4 | 4 | 4 | 1 | 1 | 3 |   0 | 12 | 12 | 11 |\n",
       "| 8 | <!----> | <!----> | NA | <!----> | GT3 | A | 4 | 4 | other    | teacher  | ⋯ | 4 | 1 | 4 | 1 | 1 | 1 |   6 |  6 |  5 |  6 |\n",
       "| 9 | <!----> | M      | 15 | U | LE3 | A | 3 | 2 | services | other    | ⋯ | 4 | 2 | 2 | 1 | 1 | 1 |   0 | 16 | 18 | 19 |\n",
       "| 10 | <!----> | M      | 15 | U | GT3 | T | 3 | 4 | other    | other    | ⋯ | 5 | 5 | 1 | 1 | 1 | 5 |   0 | 14 | 15 | 15 |\n",
       "\n"
      ],
      "text/plain": [
       "   school sex    age address famsize Pstatus Medu Fedu Mjob     Fjob     ⋯\n",
       "1  GP     F      18  U       GT3     A       4    4    at_home  teacher  ⋯\n",
       "2  GP     F      17  U       GT3     T       1    1    at_home  other    ⋯\n",
       "3  GP     Female 15  U       LE3     T       1    1    at_home  other    ⋯\n",
       "4  GP     F      15  U       GT3     T       4    2    health   services ⋯\n",
       "5  GP     F      16  U       GT3     T       3    3    other    other    ⋯\n",
       "6  GP     Male   16  U       LE3     T       4    3    services other    ⋯\n",
       "7  GP     M      16  U       LE3     T       2    2    other    other    ⋯\n",
       "8                NA          GT3     A       4    4    other    teacher  ⋯\n",
       "9         M      15  U       LE3     A       3    2    services other    ⋯\n",
       "10        M      15  U       GT3     T       3    4    other    other    ⋯\n",
       "   famrel freetime goout Dalc Walc health absences G1 G2 G3\n",
       "1  4      ?        4     1    1    3      NaN       5  6  6\n",
       "2  5      ?        3     1    1    3      NaN       5  5  6\n",
       "3  4      3        2     2    3    3       10       7  8 10\n",
       "4  3      2        2     1    1    5        2      15 14 15\n",
       "5  4      3        2     1    2    5        4       6 10 10\n",
       "6  5      4        2     1    2    5       10      15 15 15\n",
       "7  4      4        4     1    1    3        0      12 12 11\n",
       "8  4      1        4     1    1    1        6       6  5  6\n",
       "9  4      2        2     1    1    1        0      16 18 19\n",
       "10 5      5        1     1    1    5        0      14 15 15"
      ]
     },
     "metadata": {},
     "output_type": "display_data"
    }
   ],
   "source": [
    "# Explore the data by displaying the first 10 rows\n",
    "head(data,10)"
   ]
  },
  {
   "cell_type": "markdown",
   "metadata": {},
   "source": [
    "### Explore Data dimentions"
   ]
  },
  {
   "cell_type": "code",
   "execution_count": 3,
   "metadata": {
    "vscode": {
     "languageId": "r"
    }
   },
   "outputs": [
    {
     "data": {
      "text/html": [
       "'The data has 395 rows and 33 columns.'"
      ],
      "text/latex": [
       "'The data has 395 rows and 33 columns.'"
      ],
      "text/markdown": [
       "'The data has 395 rows and 33 columns.'"
      ],
      "text/plain": [
       "[1] \"The data has 395 rows and 33 columns.\""
      ]
     },
     "metadata": {},
     "output_type": "display_data"
    }
   ],
   "source": [
    "paste (\"The data has\", dim(data)[1], \"rows and\", dim(data)[2], \"columns.\")"
   ]
  },
  {
   "cell_type": "markdown",
   "metadata": {},
   "source": [
    "### Explore Data structure"
   ]
  },
  {
   "cell_type": "code",
   "execution_count": 4,
   "metadata": {
    "vscode": {
     "languageId": "r"
    }
   },
   "outputs": [
    {
     "data": {
      "text/html": [
       "'Data structure: '"
      ],
      "text/latex": [
       "'Data structure: '"
      ],
      "text/markdown": [
       "'Data structure: '"
      ],
      "text/plain": [
       "[1] \"Data structure: \""
      ]
     },
     "metadata": {},
     "output_type": "display_data"
    },
    {
     "name": "stdout",
     "output_type": "stream",
     "text": [
      "'data.frame':\t395 obs. of  33 variables:\n",
      " $ school    : Factor w/ 3 levels \"\",\"GP\",\"MS\": 2 2 2 2 2 2 2 1 1 1 ...\n",
      " $ sex       : Factor w/ 5 levels \"\",\"F\",\"Female\",..: 2 2 3 2 2 5 4 1 4 4 ...\n",
      " $ age       : int  18 17 15 15 16 16 16 NA 15 15 ...\n",
      " $ address   : Factor w/ 3 levels \"\",\"R\",\"U\": 3 3 3 3 3 3 3 1 3 3 ...\n",
      " $ famsize   : Factor w/ 2 levels \"GT3\",\"LE3\": 1 1 2 1 1 2 2 1 2 1 ...\n",
      " $ Pstatus   : Factor w/ 2 levels \"A\",\"T\": 1 2 2 2 2 2 2 1 1 2 ...\n",
      " $ Medu      : int  4 1 1 4 3 4 2 4 3 3 ...\n",
      " $ Fedu      : int  4 1 1 2 3 3 2 4 2 4 ...\n",
      " $ Mjob      : Factor w/ 5 levels \"at_home\",\"health\",..: 1 1 1 2 3 4 3 3 4 3 ...\n",
      " $ Fjob      : Factor w/ 5 levels \"at_home\",\"health\",..: 5 3 3 4 3 3 3 5 3 3 ...\n",
      " $ reason    : Factor w/ 4 levels \"course\",\"home\",..: 1 1 3 2 2 4 2 2 2 2 ...\n",
      " $ guardian  : Factor w/ 3 levels \"father\",\"mother\",..: 2 1 2 2 1 2 2 2 2 2 ...\n",
      " $ traveltime: int  2 1 1 1 1 1 1 2 1 1 ...\n",
      " $ studytime : int  2 2 2 3 2 2 2 2 2 2 ...\n",
      " $ failures  : int  NA NA 3 0 0 0 0 0 0 0 ...\n",
      " $ schoolsup : Factor w/ 2 levels \"no\",\"yes\": 2 1 2 1 1 1 1 2 1 1 ...\n",
      " $ famsup    : Factor w/ 2 levels \"no\",\"yes\": 1 2 1 2 2 2 1 2 2 2 ...\n",
      " $ paid      : Factor w/ 2 levels \"no\",\"yes\": 1 1 2 2 2 2 1 1 2 2 ...\n",
      " $ activities: Factor w/ 2 levels \"no\",\"yes\": 1 1 1 2 1 2 1 1 1 2 ...\n",
      " $ nursery   : Factor w/ 2 levels \"no\",\"yes\": 2 1 2 2 2 2 2 2 2 2 ...\n",
      " $ higher    : Factor w/ 2 levels \"no\",\"yes\": 2 2 2 2 2 2 2 2 2 2 ...\n",
      " $ internet  : Factor w/ 2 levels \"no\",\"yes\": 1 2 2 2 1 2 2 1 2 2 ...\n",
      " $ romantic  : Factor w/ 2 levels \"no\",\"yes\": 1 1 1 2 1 1 1 1 1 1 ...\n",
      " $ famrel    : int  4 5 4 3 4 5 4 4 4 5 ...\n",
      " $ freetime  : Factor w/ 6 levels \"?\",\"1\",\"2\",\"3\",..: 1 1 4 3 4 5 5 2 3 6 ...\n",
      " $ goout     : int  4 3 2 2 2 2 4 4 2 1 ...\n",
      " $ Dalc      : int  1 1 2 1 1 1 1 1 1 1 ...\n",
      " $ Walc      : int  1 1 3 1 2 2 1 1 1 1 ...\n",
      " $ health    : int  3 3 3 5 5 5 3 1 1 5 ...\n",
      " $ absences  : num  NaN NaN 10 2 4 10 0 6 0 0 ...\n",
      " $ G1        : int  5 5 7 15 6 15 12 6 16 14 ...\n",
      " $ G2        : int  6 5 8 14 10 15 12 5 18 15 ...\n",
      " $ G3        : int  6 6 10 15 10 15 11 6 19 15 ...\n"
     ]
    }
   ],
   "source": [
    "\"Data structure: \"\n",
    "str(data)"
   ]
  },
  {
   "cell_type": "markdown",
   "metadata": {},
   "source": [
    "### Explore Data summary"
   ]
  },
  {
   "cell_type": "code",
   "execution_count": 5,
   "metadata": {
    "vscode": {
     "languageId": "r"
    }
   },
   "outputs": [
    {
     "data": {
      "text/html": [
       "'Data summary: '"
      ],
      "text/latex": [
       "'Data summary: '"
      ],
      "text/markdown": [
       "'Data summary: '"
      ],
      "text/plain": [
       "[1] \"Data summary: \""
      ]
     },
     "metadata": {},
     "output_type": "display_data"
    },
    {
     "data": {
      "text/plain": [
       " school       sex           age       address famsize   Pstatus      Medu      \n",
       "   : 22         :  1   Min.   :15.0    :  1   GT3:281   A: 41   Min.   :0.000  \n",
       " GP:327   F     :206   1st Qu.:16.0   R: 88   LE3:114   T:354   1st Qu.:2.000  \n",
       " MS: 46   Female:  1   Median :17.0   U:306                     Median :3.000  \n",
       "          M     :186   Mean   :16.7                             Mean   :2.749  \n",
       "          Male  :  1   3rd Qu.:18.0                             3rd Qu.:4.000  \n",
       "                       Max.   :22.0                             Max.   :4.000  \n",
       "                       NA's   :1                                               \n",
       "      Fedu             Mjob           Fjob            reason      guardian  \n",
       " Min.   :0.000   at_home : 59   at_home : 20   course    :145   father: 90  \n",
       " 1st Qu.:2.000   health  : 34   health  : 18   home      :109   mother:273  \n",
       " Median :2.000   other   :141   other   :217   other     : 36   other : 32  \n",
       " Mean   :2.522   services:103   services:111   reputation:105               \n",
       " 3rd Qu.:3.000   teacher : 58   teacher : 29                                \n",
       " Max.   :4.000                                                              \n",
       "                                                                            \n",
       "   traveltime      studytime        failures      schoolsup famsup     paid    \n",
       " Min.   :1.000   Min.   :1.000   Min.   :0.0000   no :344   no :153   no :214  \n",
       " 1st Qu.:1.000   1st Qu.:1.000   1st Qu.:0.0000   yes: 51   yes:242   yes:181  \n",
       " Median :1.000   Median :2.000   Median :0.0000                                \n",
       " Mean   :1.448   Mean   :2.035   Mean   :0.3359                                \n",
       " 3rd Qu.:2.000   3rd Qu.:2.000   3rd Qu.:0.0000                                \n",
       " Max.   :4.000   Max.   :4.000   Max.   :3.0000                                \n",
       "                                 NA's   :2                                     \n",
       " activities nursery   higher    internet  romantic      famrel      freetime\n",
       " no :194    no : 81   no : 20   no : 66   no :263   Min.   :1.000   ?:  2   \n",
       " yes:201    yes:314   yes:375   yes:329   yes:132   1st Qu.:4.000   1: 19   \n",
       "                                                    Median :4.000   2: 64   \n",
       "                                                    Mean   :3.944   3:155   \n",
       "                                                    3rd Qu.:5.000   4:115   \n",
       "                                                    Max.   :5.000   5: 40   \n",
       "                                                                            \n",
       "     goout            Dalc            Walc           health     \n",
       " Min.   :1.000   Min.   :1.000   Min.   :1.000   Min.   :1.000  \n",
       " 1st Qu.:2.000   1st Qu.:1.000   1st Qu.:1.000   1st Qu.:3.000  \n",
       " Median :3.000   Median :1.000   Median :2.000   Median :4.000  \n",
       " Mean   :3.109   Mean   :1.481   Mean   :2.291   Mean   :3.554  \n",
       " 3rd Qu.:4.000   3rd Qu.:2.000   3rd Qu.:3.000   3rd Qu.:5.000  \n",
       " Max.   :5.000   Max.   :5.000   Max.   :5.000   Max.   :5.000  \n",
       "                                                                \n",
       "    absences            G1              G2              G3       \n",
       " Min.   : 0.000   Min.   : 3.00   Min.   : 0.00   Min.   : 0.00  \n",
       " 1st Qu.: 0.000   1st Qu.: 8.00   1st Qu.: 9.00   1st Qu.: 8.00  \n",
       " Median : 4.000   Median :11.00   Median :11.00   Median :11.00  \n",
       " Mean   : 5.712   Mean   :10.91   Mean   :10.71   Mean   :10.42  \n",
       " 3rd Qu.: 8.000   3rd Qu.:13.00   3rd Qu.:13.00   3rd Qu.:14.00  \n",
       " Max.   :75.000   Max.   :19.00   Max.   :19.00   Max.   :20.00  \n",
       " NA's   :2        NA's   :2                                      "
      ]
     },
     "metadata": {},
     "output_type": "display_data"
    }
   ],
   "source": [
    "\"Data summary: \"\n",
    "summary(data)"
   ]
  },
  {
   "cell_type": "markdown",
   "metadata": {},
   "source": [
    "Notes: \n",
    "- There is 22 students theier schools is not define in 'school' attribute.\n",
    "- There is error in 'sex' attribute section, as there is some of them were define as 'Female' and other as 'F' but they both are females, and same for males.\n",
    "- there is some missing values define as Na's\n",
    "- there is two missing values in 'freetime' attribute define as '?'"
   ]
  },
  {
   "cell_type": "code",
   "execution_count": 6,
   "metadata": {
    "vscode": {
     "languageId": "r"
    }
   },
   "outputs": [],
   "source": [
    "# replace '?' with NA in 'freetime' column\n",
    "data$freetime <- replace(data$freetime, data$freetime == \"?\" , NA)"
   ]
  },
  {
   "cell_type": "markdown",
   "metadata": {},
   "source": [
    "## 2. Clean the Data"
   ]
  },
  {
   "cell_type": "markdown",
   "metadata": {},
   "source": [
    "### 1. Deal with Missing Values\n",
    "\n",
    "Identify and handle missing values"
   ]
  },
  {
   "cell_type": "code",
   "execution_count": 7,
   "metadata": {
    "vscode": {
     "languageId": "r"
    }
   },
   "outputs": [
    {
     "data": {
      "text/html": [
       "'The Number of missing Data is : 33'"
      ],
      "text/latex": [
       "'The Number of missing Data is : 33'"
      ],
      "text/markdown": [
       "'The Number of missing Data is : 33'"
      ],
      "text/plain": [
       "[1] \"The Number of missing Data is : 33\""
      ]
     },
     "metadata": {},
     "output_type": "display_data"
    },
    {
     "name": "stdout",
     "output_type": "stream",
     "text": [
      "    school        sex        age    address    famsize    Pstatus       Medu \n",
      "        22          1          1          1          0          0          0 \n",
      "      Fedu       Mjob       Fjob     reason   guardian traveltime  studytime \n",
      "         0          0          0          0          0          0          0 \n",
      "  failures  schoolsup     famsup       paid activities    nursery     higher \n",
      "         2          0          0          0          0          0          0 \n",
      "  internet   romantic     famrel   freetime      goout       Dalc       Walc \n",
      "         0          0          0          2          0          0          0 \n",
      "    health   absences         G1         G2         G3 \n",
      "         0          2          2          0          0 \n"
     ]
    }
   ],
   "source": [
    "# TODO: Identify the missing values\n",
    "\n",
    "# Check the number missing values \n",
    "sum_of_missing_values <- sum(is.na(data) | data == \"\")\n",
    "paste(\"The Number of missing Data is :\", as.character(sum_of_missing_values))\n",
    "\n",
    "# Define missing values for each column (more detailed) \n",
    "missing_values <- colSums(is.na(data) | data == \"\")\n",
    "print(missing_values)"
   ]
  },
  {
   "cell_type": "code",
   "execution_count": 8,
   "metadata": {
    "vscode": {
     "languageId": "r"
    }
   },
   "outputs": [
    {
     "name": "stderr",
     "output_type": "stream",
     "text": [
      "── \u001b[1mAttaching core tidyverse packages\u001b[22m ──────────────────────── tidyverse 2.0.0 ──\n",
      "\u001b[32m✔\u001b[39m \u001b[34mdplyr    \u001b[39m 1.1.4     \u001b[32m✔\u001b[39m \u001b[34mreadr    \u001b[39m 2.1.5\n",
      "\u001b[32m✔\u001b[39m \u001b[34mforcats  \u001b[39m 1.0.0     \u001b[32m✔\u001b[39m \u001b[34mstringr  \u001b[39m 1.5.1\n",
      "\u001b[32m✔\u001b[39m \u001b[34mggplot2  \u001b[39m 3.5.1     \u001b[32m✔\u001b[39m \u001b[34mtibble   \u001b[39m 3.2.1\n",
      "\u001b[32m✔\u001b[39m \u001b[34mlubridate\u001b[39m 1.9.3     \u001b[32m✔\u001b[39m \u001b[34mtidyr    \u001b[39m 1.3.1\n",
      "\u001b[32m✔\u001b[39m \u001b[34mpurrr    \u001b[39m 1.0.2     \n",
      "── \u001b[1mConflicts\u001b[22m ────────────────────────────────────────── tidyverse_conflicts() ──\n",
      "\u001b[31m✖\u001b[39m \u001b[34mdplyr\u001b[39m::\u001b[32mfilter()\u001b[39m masks \u001b[34mstats\u001b[39m::filter()\n",
      "\u001b[31m✖\u001b[39m \u001b[34mdplyr\u001b[39m::\u001b[32mlag()\u001b[39m    masks \u001b[34mstats\u001b[39m::lag()\n",
      "\u001b[36mℹ\u001b[39m Use the conflicted package (\u001b[3m\u001b[34m<http://conflicted.r-lib.org/>\u001b[39m\u001b[23m) to force all conflicts to become errors\n"
     ]
    }
   ],
   "source": [
    "# load the tidyverse package\n",
    "# to use ggplot functions from the ggplot2 package\n",
    "library(tidyverse)"
   ]
  },
  {
   "cell_type": "code",
   "execution_count": 9,
   "metadata": {
    "vscode": {
     "languageId": "r"
    }
   },
   "outputs": [
    {
     "data": {
      "image/png": "[encoded data removed]",
      "text/plain": [
       "plot without title"
      ]
     },
     "metadata": {
      "image/png": {
       "height": 420,
       "width": 420
      }
     },
     "output_type": "display_data"
    }
   ],
   "source": [
    "# TODO: Draw heatmap for missing value\n",
    "\n",
    "# Create a logical matrix for missing values (NA or \"\")\n",
    "missing_matrix <- is.na(data) | data == \"\"\n",
    "\n",
    "# Convert the matrix to a data frame and add row names for easier labeling\n",
    "missing_df <- as.data.frame(missing_matrix)\n",
    "missing_df$row <- rownames(missing_df)\n",
    "\n",
    "# Reshape to long format\n",
    "missing_long <- pivot_longer(missing_df, cols = -row, names_to = \"Columns\", values_to = \"Missing\")\n",
    "\n",
    "# Convert row numbers to numeric for the plot\n",
    "missing_long$row <- as.numeric(missing_long$row)\n",
    "\n",
    "# Plot the heatmap using ggplot\n",
    "ggplot(missing_long, # data\n",
    "  aes(x = Columns, y = row, fill = Missing)) + # aesthetics (x-axis, y-axis, fill)\n",
    "  geom_tile(color = \"white\") + # tile color\n",
    "  scale_fill_manual(values = c(\"FALSE\" = \"white\", \"TRUE\" = \"red\"), labels = c(\"Present\", \"Missing\")) + # fill color\n",
    "  labs(title = \"Heatmap of Missing Data\", x = \"Columns\", y = \"Rows\") + # labels\n",
    "  theme_minimal() + # theme\n",
    "  theme(axis.text.x = element_text(angle = 45, hjust = 1)) # rotate x-axis labels"
   ]
  },
  {
   "cell_type": "code",
   "execution_count": 10,
   "metadata": {
    "vscode": {
     "languageId": "r"
    }
   },
   "outputs": [],
   "source": [
    "# TODO: Delete all missing value\n",
    "\n",
    "# Remove row as its school column has missing values\n",
    "data_clean <- data[!(is.na(data$school) | data$school == \"\"), ]\n"
   ]
  },
  {
   "cell_type": "code",
   "execution_count": 11,
   "metadata": {
    "vscode": {
     "languageId": "r"
    }
   },
   "outputs": [
    {
     "data": {
      "text/html": [
       "'The Number of missing Data is : 6'"
      ],
      "text/latex": [
       "'The Number of missing Data is : 6'"
      ],
      "text/markdown": [
       "'The Number of missing Data is : 6'"
      ],
      "text/plain": [
       "[1] \"The Number of missing Data is : 6\""
      ]
     },
     "metadata": {},
     "output_type": "display_data"
    },
    {
     "name": "stdout",
     "output_type": "stream",
     "text": [
      "    school        sex        age    address    famsize    Pstatus       Medu \n",
      "         0          0          0          0          0          0          0 \n",
      "      Fedu       Mjob       Fjob     reason   guardian traveltime  studytime \n",
      "         0          0          0          0          0          0          0 \n",
      "  failures  schoolsup     famsup       paid activities    nursery     higher \n",
      "         2          0          0          0          0          0          0 \n",
      "  internet   romantic     famrel   freetime      goout       Dalc       Walc \n",
      "         0          0          0          2          0          0          0 \n",
      "    health   absences         G1         G2         G3 \n",
      "         0          2          0          0          0 \n"
     ]
    }
   ],
   "source": [
    "# TODO: Check missing values again\n",
    "\n",
    "# Check the number missing values \n",
    "sum_of_missing_values2 <- sum(is.na(data_clean) | data_clean == \"\")\n",
    "paste(\"The Number of missing Data is :\", as.character(sum_of_missing_values2))\n",
    "\n",
    "# Define missing values for each column (more detailed) \n",
    "missing_values2 <- colSums(is.na(data_clean) | data_clean == \"\")\n",
    "print(missing_values2)"
   ]
  },
  {
   "cell_type": "markdown",
   "metadata": {},
   "source": [
    "Note:\n",
    "\n",
    "- 'failures' , 'freetime', and 'absences' colums still has missing values"
   ]
  },
  {
   "cell_type": "code",
   "execution_count": 12,
   "metadata": {
    "vscode": {
     "languageId": "r"
    }
   },
   "outputs": [
    {
     "data": {
      "text/html": [
       "<span style=white-space:pre-wrap>'the number of missing values in failures column is:  0'</span>"
      ],
      "text/latex": [
       "'the number of missing values in failures column is:  0'"
      ],
      "text/markdown": [
       "<span style=white-space:pre-wrap>'the number of missing values in failures column is:  0'</span>"
      ],
      "text/plain": [
       "[1] \"the number of missing values in failures column is:  0\""
      ]
     },
     "metadata": {},
     "output_type": "display_data"
    }
   ],
   "source": [
    "# Replace the missing values in the 'failures' column with the median of the column\n",
    "\n",
    "# Calculate the median of the 'failures' column\n",
    "failures_median <- median(data$failures, na.rm = TRUE)\n",
    "\n",
    "# Replace the missing values with the median\n",
    "data_clean$failures[is.na(data_clean$failures)] <- failures_median\n",
    "\n",
    "# Check the number missing values in the 'failures' column \n",
    "missing_values_failures <- sum(is.na(data_clean$failures) | data_clean$failures == \"\")\n",
    "paste(\"the number of missing values in failures column is: \",missing_values_failures)"
   ]
  },
  {
   "cell_type": "code",
   "execution_count": 13,
   "metadata": {
    "vscode": {
     "languageId": "r"
    }
   },
   "outputs": [
    {
     "data": {
      "text/html": [
       "<span style=white-space:pre-wrap>'the number of missing values in freetime column is:  0'</span>"
      ],
      "text/latex": [
       "'the number of missing values in freetime column is:  0'"
      ],
      "text/markdown": [
       "<span style=white-space:pre-wrap>'the number of missing values in freetime column is:  0'</span>"
      ],
      "text/plain": [
       "[1] \"the number of missing values in freetime column is:  0\""
      ]
     },
     "metadata": {},
     "output_type": "display_data"
    }
   ],
   "source": [
    "# Replace the missing values in the 'freetime' column with the mode of the column\n",
    "\n",
    "# Calculate the mode of the 'freetime' column\n",
    "freetime_mode <- as.numeric(names(sort(table(data$freetime), decreasing = TRUE)[1]))\n",
    "\n",
    "# Replace the missing values with the mode\n",
    "data_clean$freetime[is.na(data_clean$freetime)] <- freetime_mode\n",
    "\n",
    "# Check the number missing values in the 'freetime' column\n",
    "missing_values_freetime <- sum(is.na(data_clean$freetime) | data_clean$freetime == \"\")\n",
    "paste(\"the number of missing values in freetime column is: \",missing_values_freetime)"
   ]
  },
  {
   "cell_type": "code",
   "execution_count": 14,
   "metadata": {
    "vscode": {
     "languageId": "r"
    }
   },
   "outputs": [
    {
     "data": {
      "text/html": [
       "<span style=white-space:pre-wrap>'the number of missing values in absences column is:  0'</span>"
      ],
      "text/latex": [
       "'the number of missing values in absences column is:  0'"
      ],
      "text/markdown": [
       "<span style=white-space:pre-wrap>'the number of missing values in absences column is:  0'</span>"
      ],
      "text/plain": [
       "[1] \"the number of missing values in absences column is:  0\""
      ]
     },
     "metadata": {},
     "output_type": "display_data"
    }
   ],
   "source": [
    "# Replace the missing values in the 'absences' column with the mean of the column\n",
    "\n",
    "# Calculate the mean of the 'absences' column\n",
    "absences_mean <- mean(data$absences, na.rm = TRUE)\n",
    "\n",
    "# Replace the missing values with the mean\n",
    "data_clean$absences[is.na(data_clean$absences)] <- absences_mean\n",
    "\n",
    "# Check the number missing values in the 'absences' column\n",
    "missing_values_absences <- sum(is.na(data_clean$absences) | data_clean$absences == \"\")\n",
    "paste(\"the number of missing values in absences column is: \",missing_values_absences)"
   ]
  },
  {
   "cell_type": "code",
   "execution_count": 15,
   "metadata": {
    "vscode": {
     "languageId": "r"
    }
   },
   "outputs": [
    {
     "data": {
      "text/html": [
       "'The Number of missing Data is : 0'"
      ],
      "text/latex": [
       "'The Number of missing Data is : 0'"
      ],
      "text/markdown": [
       "'The Number of missing Data is : 0'"
      ],
      "text/plain": [
       "[1] \"The Number of missing Data is : 0\""
      ]
     },
     "metadata": {},
     "output_type": "display_data"
    },
    {
     "name": "stdout",
     "output_type": "stream",
     "text": [
      "    school        sex        age    address    famsize    Pstatus       Medu \n",
      "         0          0          0          0          0          0          0 \n",
      "      Fedu       Mjob       Fjob     reason   guardian traveltime  studytime \n",
      "         0          0          0          0          0          0          0 \n",
      "  failures  schoolsup     famsup       paid activities    nursery     higher \n",
      "         0          0          0          0          0          0          0 \n",
      "  internet   romantic     famrel   freetime      goout       Dalc       Walc \n",
      "         0          0          0          0          0          0          0 \n",
      "    health   absences         G1         G2         G3 \n",
      "         0          0          0          0          0 \n"
     ]
    }
   ],
   "source": [
    "# Check missing values again\n",
    "\n",
    "# Check the number missing values \n",
    "sum_of_missing_values3 <- sum(is.na(data_clean) | data_clean == \"\")\n",
    "paste(\"The Number of missing Data is :\", as.character(sum_of_missing_values3))\n",
    "\n",
    "# Define missing values for each column (more detailed) \n",
    "missing_values3 <- colSums(is.na(data_clean) | data_clean == \"\")\n",
    "print(missing_values3)"
   ]
  },
  {
   "cell_type": "markdown",
   "metadata": {},
   "source": [
    "Finally, there is no missing values"
   ]
  },
  {
   "cell_type": "markdown",
   "metadata": {},
   "source": [
    "### 2. Correct data format"
   ]
  },
  {
   "cell_type": "code",
   "execution_count": 16,
   "metadata": {
    "vscode": {
     "languageId": "r"
    }
   },
   "outputs": [
    {
     "name": "stdout",
     "output_type": "stream",
     "text": [
      "    school        sex        age    address    famsize    Pstatus       Medu \n",
      "  \"factor\"   \"factor\"  \"integer\"   \"factor\"   \"factor\"   \"factor\"  \"integer\" \n",
      "      Fedu       Mjob       Fjob     reason   guardian traveltime  studytime \n",
      " \"integer\"   \"factor\"   \"factor\"   \"factor\"   \"factor\"  \"integer\"  \"integer\" \n",
      "  failures  schoolsup     famsup       paid activities    nursery     higher \n",
      " \"integer\"   \"factor\"   \"factor\"   \"factor\"   \"factor\"   \"factor\"   \"factor\" \n",
      "  internet   romantic     famrel   freetime      goout       Dalc       Walc \n",
      "  \"factor\"   \"factor\"  \"integer\"   \"factor\"  \"integer\"  \"integer\"  \"integer\" \n",
      "    health   absences         G1         G2         G3 \n",
      " \"integer\"  \"numeric\"  \"integer\"  \"integer\"  \"integer\" \n"
     ]
    }
   ],
   "source": [
    "# TODO: Check each coulmn type of class\n",
    "print(sapply(data_clean, class))"
   ]
  },
  {
   "cell_type": "code",
   "execution_count": 17,
   "metadata": {
    "vscode": {
     "languageId": "r"
    }
   },
   "outputs": [],
   "source": [
    "# TODO: Change type of column that need to change\n",
    "\n",
    "# change freetime column from factor to integer\n",
    "data_clean$freetime <- as.integer(data_clean$freetime)\n",
    "\n",
    "# change absences column from numeric to integer\n",
    "data_clean$absences <- as.integer(data_clean$absences)"
   ]
  },
  {
   "cell_type": "code",
   "execution_count": 18,
   "metadata": {
    "vscode": {
     "languageId": "r"
    }
   },
   "outputs": [
    {
     "name": "stdout",
     "output_type": "stream",
     "text": [
      "    school        sex        age    address    famsize    Pstatus       Medu \n",
      "  \"factor\"   \"factor\"  \"integer\"   \"factor\"   \"factor\"   \"factor\"  \"integer\" \n",
      "      Fedu       Mjob       Fjob     reason   guardian traveltime  studytime \n",
      " \"integer\"   \"factor\"   \"factor\"   \"factor\"   \"factor\"  \"integer\"  \"integer\" \n",
      "  failures  schoolsup     famsup       paid activities    nursery     higher \n",
      " \"integer\"   \"factor\"   \"factor\"   \"factor\"   \"factor\"   \"factor\"   \"factor\" \n",
      "  internet   romantic     famrel   freetime      goout       Dalc       Walc \n",
      "  \"factor\"   \"factor\"  \"integer\"  \"integer\"  \"integer\"  \"integer\"  \"integer\" \n",
      "    health   absences         G1         G2         G3 \n",
      " \"integer\"  \"integer\"  \"integer\"  \"integer\"  \"integer\" \n"
     ]
    }
   ],
   "source": [
    "# TODO: Check each coulmn type of again\n",
    "print(sapply(data_clean, class))"
   ]
  },
  {
   "cell_type": "code",
   "execution_count": 19,
   "metadata": {
    "vscode": {
     "languageId": "r"
    }
   },
   "outputs": [
    {
     "name": "stdout",
     "output_type": "stream",
     "text": [
      "'data.frame':\t373 obs. of  33 variables:\n",
      " $ school    : Factor w/ 3 levels \"\",\"GP\",\"MS\": 2 2 2 2 2 2 2 2 2 2 ...\n",
      " $ sex       : Factor w/ 5 levels \"\",\"F\",\"Female\",..: 2 2 3 2 2 5 4 4 4 4 ...\n",
      " $ age       : int  18 17 15 15 16 16 16 16 15 15 ...\n",
      " $ address   : Factor w/ 3 levels \"\",\"R\",\"U\": 3 3 3 3 3 3 3 3 3 3 ...\n",
      " $ famsize   : Factor w/ 2 levels \"GT3\",\"LE3\": 1 1 2 1 1 2 2 1 1 1 ...\n",
      " $ Pstatus   : Factor w/ 2 levels \"A\",\"T\": 1 2 2 2 2 2 2 2 2 2 ...\n",
      " $ Medu      : int  4 1 1 4 3 4 2 4 4 4 ...\n",
      " $ Fedu      : int  4 1 1 2 3 3 2 4 4 4 ...\n",
      " $ Mjob      : Factor w/ 5 levels \"at_home\",\"health\",..: 1 1 1 2 3 4 3 5 2 4 ...\n",
      " $ Fjob      : Factor w/ 5 levels \"at_home\",\"health\",..: 5 3 3 4 3 3 3 5 4 4 ...\n",
      " $ reason    : Factor w/ 4 levels \"course\",\"home\",..: 1 1 3 2 2 4 2 2 2 4 ...\n",
      " $ guardian  : Factor w/ 3 levels \"father\",\"mother\",..: 2 1 2 2 1 2 2 2 2 2 ...\n",
      " $ traveltime: int  2 1 1 1 1 1 1 1 1 2 ...\n",
      " $ studytime : int  2 2 2 3 2 2 2 2 2 2 ...\n",
      " $ failures  : int  0 0 3 0 0 0 0 0 0 0 ...\n",
      " $ schoolsup : Factor w/ 2 levels \"no\",\"yes\": 2 1 2 1 1 1 1 1 1 1 ...\n",
      " $ famsup    : Factor w/ 2 levels \"no\",\"yes\": 1 2 1 2 2 2 1 2 2 2 ...\n",
      " $ paid      : Factor w/ 2 levels \"no\",\"yes\": 1 1 2 2 2 2 1 2 2 1 ...\n",
      " $ activities: Factor w/ 2 levels \"no\",\"yes\": 1 1 1 2 1 2 1 2 1 2 ...\n",
      " $ nursery   : Factor w/ 2 levels \"no\",\"yes\": 2 1 2 2 2 2 2 2 1 2 ...\n",
      " $ higher    : Factor w/ 2 levels \"no\",\"yes\": 2 2 2 2 2 2 2 2 2 2 ...\n",
      " $ internet  : Factor w/ 2 levels \"no\",\"yes\": 1 2 2 2 1 2 2 2 2 2 ...\n",
      " $ romantic  : Factor w/ 2 levels \"no\",\"yes\": 1 1 1 2 1 1 1 2 1 1 ...\n",
      " $ famrel    : int  4 5 4 3 4 5 4 4 5 4 ...\n",
      " $ freetime  : int  4 4 4 3 4 5 5 5 5 4 ...\n",
      " $ goout     : int  4 3 2 2 2 2 4 5 2 1 ...\n",
      " $ Dalc      : int  1 1 2 1 1 1 1 5 3 1 ...\n",
      " $ Walc      : int  1 1 3 1 2 2 1 5 4 1 ...\n",
      " $ health    : int  3 3 3 5 5 5 3 5 5 5 ...\n",
      " $ absences  : int  5 5 10 2 4 10 0 16 0 0 ...\n",
      " $ G1        : int  5 5 7 15 6 15 12 10 9 17 ...\n",
      " $ G2        : int  6 5 8 14 10 15 12 12 11 16 ...\n",
      " $ G3        : int  6 6 10 15 10 15 11 11 12 17 ...\n"
     ]
    }
   ],
   "source": [
    "str(data_clean)"
   ]
  },
  {
   "cell_type": "markdown",
   "metadata": {},
   "source": [
    "### 3. Remove any duplicates\n"
   ]
  },
  {
   "cell_type": "code",
   "execution_count": 20,
   "metadata": {
    "vscode": {
     "languageId": "r"
    }
   },
   "outputs": [],
   "source": [
    "# TODO: Remove any duplicates in the data\n",
    "\n",
    "data_clean <- unique(data_clean)"
   ]
  },
  {
   "cell_type": "markdown",
   "metadata": {},
   "source": [
    "### 4. Data Standardization"
   ]
  },
  {
   "cell_type": "code",
   "execution_count": 21,
   "metadata": {
    "vscode": {
     "languageId": "r"
    }
   },
   "outputs": [
    {
     "data": {
      "text/html": [
       "<style>\n",
       ".list-inline {list-style: none; margin:0; padding: 0}\n",
       ".list-inline>li {display: inline-block}\n",
       ".list-inline>li:not(:last-child)::after {content: \"\\00b7\"; padding: 0 .5ex}\n",
       "</style>\n",
       "<ol class=list-inline><li>F</li><li>Female</li><li>Male</li><li>M</li></ol>\n",
       "\n",
       "<details>\n",
       "\t<summary style=display:list-item;cursor:pointer>\n",
       "\t\t<strong>Levels</strong>:\n",
       "\t</summary>\n",
       "\t<style>\n",
       "\t.list-inline {list-style: none; margin:0; padding: 0}\n",
       "\t.list-inline>li {display: inline-block}\n",
       "\t.list-inline>li:not(:last-child)::after {content: \"\\00b7\"; padding: 0 .5ex}\n",
       "\t</style>\n",
       "\t<ol class=list-inline><li>''</li><li>'F'</li><li>'Female'</li><li>'M'</li><li>'Male'</li></ol>\n",
       "</details>"
      ],
      "text/latex": [
       "\\begin{enumerate*}\n",
       "\\item F\n",
       "\\item Female\n",
       "\\item Male\n",
       "\\item M\n",
       "\\end{enumerate*}\n",
       "\n",
       "\\emph{Levels}: \\begin{enumerate*}\n",
       "\\item ''\n",
       "\\item 'F'\n",
       "\\item 'Female'\n",
       "\\item 'M'\n",
       "\\item 'Male'\n",
       "\\end{enumerate*}\n"
      ],
      "text/markdown": [
       "1. F\n",
       "2. Female\n",
       "3. Male\n",
       "4. M\n",
       "\n",
       "\n",
       "\n",
       "**Levels**: 1. ''\n",
       "2. 'F'\n",
       "3. 'Female'\n",
       "4. 'M'\n",
       "5. 'Male'\n",
       "\n",
       "\n"
      ],
      "text/plain": [
       "[1] F      Female Male   M     \n",
       "Levels:  F Female M Male"
      ]
     },
     "metadata": {},
     "output_type": "display_data"
    }
   ],
   "source": [
    "unique(data_clean$sex)"
   ]
  },
  {
   "cell_type": "code",
   "execution_count": 22,
   "metadata": {
    "vscode": {
     "languageId": "r"
    }
   },
   "outputs": [],
   "source": [
    "# Standardize sex column to \"male\" and \"female\"\n",
    "data_clean$sex <- tolower(data_clean$sex)\n",
    "data_clean$sex <- replace(data_clean$sex, data_clean$sex == \"f\", \"female\")\n",
    "data_clean$sex <- replace(data_clean$sex, data_clean$sex == \"m\", \"male\")\n"
   ]
  },
  {
   "cell_type": "code",
   "execution_count": 23,
   "metadata": {
    "vscode": {
     "languageId": "r"
    }
   },
   "outputs": [
    {
     "data": {
      "text/html": [
       "<style>\n",
       ".list-inline {list-style: none; margin:0; padding: 0}\n",
       ".list-inline>li {display: inline-block}\n",
       ".list-inline>li:not(:last-child)::after {content: \"\\00b7\"; padding: 0 .5ex}\n",
       "</style>\n",
       "<ol class=list-inline><li>'female'</li><li>'male'</li></ol>\n"
      ],
      "text/latex": [
       "\\begin{enumerate*}\n",
       "\\item 'female'\n",
       "\\item 'male'\n",
       "\\end{enumerate*}\n"
      ],
      "text/markdown": [
       "1. 'female'\n",
       "2. 'male'\n",
       "\n",
       "\n"
      ],
      "text/plain": [
       "[1] \"female\" \"male\"  "
      ]
     },
     "metadata": {},
     "output_type": "display_data"
    }
   ],
   "source": [
    "unique(data_clean$sex)"
   ]
  },
  {
   "cell_type": "markdown",
   "metadata": {},
   "source": [
    "## 3. Exploratory Data Analysis (EDA) and Data Visualization"
   ]
  },
  {
   "cell_type": "markdown",
   "metadata": {},
   "source": [
    "\n",
    "Categorical variables are variables that describe a 'characteristic' of a data unit, and are selected from a small group of categories. The categorical variables can have the type \"object\" or \"int64\". A good way to visualize categorical variables is by using boxplots.\n"
   ]
  },
  {
   "cell_type": "markdown",
   "metadata": {},
   "source": [
    "### Deal with Outliers"
   ]
  },
  {
   "cell_type": "code",
   "execution_count": 24,
   "metadata": {
    "vscode": {
     "languageId": "r"
    }
   },
   "outputs": [
    {
     "data": {
      "text/plain": [
       " school       sex                 age        address famsize   Pstatus\n",
       "   :  0   Length:373         Min.   :15.00    :  0   GT3:265   A: 37  \n",
       " GP:327   Class :character   1st Qu.:16.00   R: 87   LE3:108   T:336  \n",
       " MS: 46   Mode  :character   Median :17.00   U:286                    \n",
       "                             Mean   :16.76                            \n",
       "                             3rd Qu.:18.00                            \n",
       "                             Max.   :22.00                            \n",
       "      Medu            Fedu             Mjob           Fjob            reason   \n",
       " Min.   :0.000   Min.   :0.000   at_home : 59   at_home : 20   course    :140  \n",
       " 1st Qu.:2.000   1st Qu.:2.000   health  : 29   health  : 15   home      :100  \n",
       " Median :3.000   Median :2.000   other   :135   other   :204   other     : 34  \n",
       " Mean   :2.721   Mean   :2.496   services: 96   services:106   reputation: 99  \n",
       " 3rd Qu.:4.000   3rd Qu.:3.000   teacher : 54   teacher : 28                   \n",
       " Max.   :4.000   Max.   :4.000                                                 \n",
       "   guardian     traveltime      studytime        failures      schoolsup\n",
       " father: 86   Min.   :1.000   Min.   :1.000   Min.   :0.0000   no :326  \n",
       " mother:256   1st Qu.:1.000   1st Qu.:1.000   1st Qu.:0.0000   yes: 47  \n",
       " other : 31   Median :1.000   Median :2.000   Median :0.0000            \n",
       "              Mean   :1.456   Mean   :2.048   Mean   :0.3405            \n",
       "              3rd Qu.:2.000   3rd Qu.:2.000   3rd Qu.:0.0000            \n",
       "              Max.   :4.000   Max.   :4.000   Max.   :3.0000            \n",
       " famsup     paid     activities nursery   higher    internet  romantic \n",
       " no :149   no :204   no :183    no : 80   no : 20   no : 64   no :242  \n",
       " yes:224   yes:169   yes:190    yes:293   yes:353   yes:309   yes:131  \n",
       "                                                                       \n",
       "                                                                       \n",
       "                                                                       \n",
       "                                                                       \n",
       "     famrel         freetime         goout            Dalc      \n",
       " Min.   :1.000   Min.   :2.000   Min.   :1.000   Min.   :1.000  \n",
       " 1st Qu.:4.000   1st Qu.:4.000   1st Qu.:2.000   1st Qu.:1.000  \n",
       " Median :4.000   Median :4.000   Median :3.000   Median :1.000  \n",
       " Mean   :3.941   Mean   :4.241   Mean   :3.137   Mean   :1.501  \n",
       " 3rd Qu.:5.000   3rd Qu.:5.000   3rd Qu.:4.000   3rd Qu.:2.000  \n",
       " Max.   :5.000   Max.   :6.000   Max.   :5.000   Max.   :5.000  \n",
       "      Walc           health         absences            G1       \n",
       " Min.   :1.000   Min.   :1.000   Min.   : 0.000   Min.   : 3.00  \n",
       " 1st Qu.:1.000   1st Qu.:3.000   1st Qu.: 0.000   1st Qu.: 8.00  \n",
       " Median :2.000   Median :4.000   Median : 4.000   Median :11.00  \n",
       " Mean   :2.308   Mean   :3.552   Mean   : 5.842   Mean   :10.88  \n",
       " 3rd Qu.:3.000   3rd Qu.:5.000   3rd Qu.: 8.000   3rd Qu.:13.00  \n",
       " Max.   :5.000   Max.   :5.000   Max.   :75.000   Max.   :19.00  \n",
       "       G2              G3       \n",
       " Min.   : 0.00   Min.   : 0.00  \n",
       " 1st Qu.: 9.00   1st Qu.: 8.00  \n",
       " Median :11.00   Median :11.00  \n",
       " Mean   :10.64   Mean   :10.32  \n",
       " 3rd Qu.:13.00   3rd Qu.:13.00  \n",
       " Max.   :19.00   Max.   :20.00  "
      ]
     },
     "metadata": {},
     "output_type": "display_data"
    }
   ],
   "source": [
    "summary(data_clean)"
   ]
  },
  {
   "cell_type": "markdown",
   "metadata": {},
   "source": [
    "Note: \n",
    "\n",
    "In the 'absences' column,: \n",
    "- the third quartile (Q3) is 8.\n",
    "- the maximum value is 75. \n",
    "\n",
    "Since this maximum value is significantly higher than Q3, it indicates potential outliers."
   ]
  },
  {
   "cell_type": "markdown",
   "metadata": {},
   "source": [
    "#### Identify Outliers"
   ]
  },
  {
   "cell_type": "code",
   "execution_count": 25,
   "metadata": {
    "vscode": {
     "languageId": "r"
    }
   },
   "outputs": [
    {
     "data": {
      "image/png": "[encoded data removed]",
      "text/plain": [
       "Plot with title \"Boxplot of Absences\""
      ]
     },
     "metadata": {
      "image/png": {
       "height": 420,
       "width": 420
      }
     },
     "output_type": "display_data"
    }
   ],
   "source": [
    "# TODO: Draw boxplot for coulmns that has outlier\n",
    "\n",
    "boxplot(data_clean$absences, main=\"Boxplot of Absences\", ylab=\"Absences\")\n"
   ]
  },
  {
   "cell_type": "markdown",
   "metadata": {},
   "source": [
    "The outliers shown clearly in the above boxplot."
   ]
  },
  {
   "cell_type": "markdown",
   "metadata": {},
   "source": [
    "#### Remove Outliers"
   ]
  },
  {
   "cell_type": "code",
   "execution_count": 26,
   "metadata": {
    "vscode": {
     "languageId": "r"
    }
   },
   "outputs": [],
   "source": [
    "# TODO: Remove outliers\n",
    "\n",
    "data_clean$absences <- pmin(pmax(data_clean$absences, 0), 20)"
   ]
  },
  {
   "cell_type": "code",
   "execution_count": 27,
   "metadata": {
    "vscode": {
     "languageId": "r"
    }
   },
   "outputs": [
    {
     "data": {
      "image/png": "[encoded data removed]",
      "text/plain": [
       "Plot with title \"Boxplot of Absences\""
      ]
     },
     "metadata": {
      "image/png": {
       "height": 420,
       "width": 420
      }
     },
     "output_type": "display_data"
    }
   ],
   "source": [
    "# TODO: Draw boxplot again\n",
    "boxplot(data_clean$absences, main=\"Boxplot of Absences\", ylab=\"Absences\")"
   ]
  },
  {
   "cell_type": "markdown",
   "metadata": {},
   "source": [
    "The outlires has been removed as illustrated in the above boxplot"
   ]
  },
  {
   "cell_type": "markdown",
   "metadata": {},
   "source": [
    "### Looking for Correlations"
   ]
  },
  {
   "cell_type": "code",
   "execution_count": 28,
   "metadata": {
    "vscode": {
     "languageId": "r"
    }
   },
   "outputs": [
    {
     "data": {
      "text/html": [
       "<table class=\"dataframe\">\n",
       "<caption>A data.frame: 373 × 33</caption>\n",
       "<thead>\n",
       "\t<tr><th></th><th scope=col>school</th><th scope=col>sex</th><th scope=col>age</th><th scope=col>address</th><th scope=col>famsize</th><th scope=col>Pstatus</th><th scope=col>Medu</th><th scope=col>Fedu</th><th scope=col>Mjob</th><th scope=col>Fjob</th><th scope=col>⋯</th><th scope=col>famrel</th><th scope=col>freetime</th><th scope=col>goout</th><th scope=col>Dalc</th><th scope=col>Walc</th><th scope=col>health</th><th scope=col>absences</th><th scope=col>G1</th><th scope=col>G2</th><th scope=col>G3</th></tr>\n",
       "\t<tr><th></th><th scope=col>&lt;fct&gt;</th><th scope=col>&lt;chr&gt;</th><th scope=col>&lt;int&gt;</th><th scope=col>&lt;fct&gt;</th><th scope=col>&lt;fct&gt;</th><th scope=col>&lt;fct&gt;</th><th scope=col>&lt;int&gt;</th><th scope=col>&lt;int&gt;</th><th scope=col>&lt;fct&gt;</th><th scope=col>&lt;fct&gt;</th><th scope=col>⋯</th><th scope=col>&lt;int&gt;</th><th scope=col>&lt;int&gt;</th><th scope=col>&lt;int&gt;</th><th scope=col>&lt;int&gt;</th><th scope=col>&lt;int&gt;</th><th scope=col>&lt;int&gt;</th><th scope=col>&lt;dbl&gt;</th><th scope=col>&lt;int&gt;</th><th scope=col>&lt;int&gt;</th><th scope=col>&lt;int&gt;</th></tr>\n",
       "</thead>\n",
       "<tbody>\n",
       "\t<tr><th scope=row>1</th><td>GP</td><td>female</td><td>18</td><td>U</td><td>GT3</td><td>A</td><td>4</td><td>4</td><td>at_home </td><td>teacher </td><td>⋯</td><td>4</td><td>4</td><td>4</td><td>1</td><td>1</td><td>3</td><td> 5</td><td> 5</td><td> 6</td><td> 6</td></tr>\n",
       "\t<tr><th scope=row>2</th><td>GP</td><td>female</td><td>17</td><td>U</td><td>GT3</td><td>T</td><td>1</td><td>1</td><td>at_home </td><td>other   </td><td>⋯</td><td>5</td><td>4</td><td>3</td><td>1</td><td>1</td><td>3</td><td> 5</td><td> 5</td><td> 5</td><td> 6</td></tr>\n",
       "\t<tr><th scope=row>3</th><td>GP</td><td>female</td><td>15</td><td>U</td><td>LE3</td><td>T</td><td>1</td><td>1</td><td>at_home </td><td>other   </td><td>⋯</td><td>4</td><td>4</td><td>2</td><td>2</td><td>3</td><td>3</td><td>10</td><td> 7</td><td> 8</td><td>10</td></tr>\n",
       "\t<tr><th scope=row>4</th><td>GP</td><td>female</td><td>15</td><td>U</td><td>GT3</td><td>T</td><td>4</td><td>2</td><td>health  </td><td>services</td><td>⋯</td><td>3</td><td>3</td><td>2</td><td>1</td><td>1</td><td>5</td><td> 2</td><td>15</td><td>14</td><td>15</td></tr>\n",
       "\t<tr><th scope=row>5</th><td>GP</td><td>female</td><td>16</td><td>U</td><td>GT3</td><td>T</td><td>3</td><td>3</td><td>other   </td><td>other   </td><td>⋯</td><td>4</td><td>4</td><td>2</td><td>1</td><td>2</td><td>5</td><td> 4</td><td> 6</td><td>10</td><td>10</td></tr>\n",
       "\t<tr><th scope=row>6</th><td>GP</td><td>male  </td><td>16</td><td>U</td><td>LE3</td><td>T</td><td>4</td><td>3</td><td>services</td><td>other   </td><td>⋯</td><td>5</td><td>5</td><td>2</td><td>1</td><td>2</td><td>5</td><td>10</td><td>15</td><td>15</td><td>15</td></tr>\n",
       "\t<tr><th scope=row>7</th><td>GP</td><td>male  </td><td>16</td><td>U</td><td>LE3</td><td>T</td><td>2</td><td>2</td><td>other   </td><td>other   </td><td>⋯</td><td>4</td><td>5</td><td>4</td><td>1</td><td>1</td><td>3</td><td> 0</td><td>12</td><td>12</td><td>11</td></tr>\n",
       "\t<tr><th scope=row>30</th><td>GP</td><td>male  </td><td>16</td><td>U</td><td>GT3</td><td>T</td><td>4</td><td>4</td><td>teacher </td><td>teacher </td><td>⋯</td><td>4</td><td>5</td><td>5</td><td>5</td><td>5</td><td>5</td><td>16</td><td>10</td><td>12</td><td>11</td></tr>\n",
       "\t<tr><th scope=row>31</th><td>GP</td><td>male  </td><td>15</td><td>U</td><td>GT3</td><td>T</td><td>4</td><td>4</td><td>health  </td><td>services</td><td>⋯</td><td>5</td><td>5</td><td>2</td><td>3</td><td>4</td><td>5</td><td> 0</td><td> 9</td><td>11</td><td>12</td></tr>\n",
       "\t<tr><th scope=row>32</th><td>GP</td><td>male  </td><td>15</td><td>U</td><td>GT3</td><td>T</td><td>4</td><td>4</td><td>services</td><td>services</td><td>⋯</td><td>4</td><td>4</td><td>1</td><td>1</td><td>1</td><td>5</td><td> 0</td><td>17</td><td>16</td><td>17</td></tr>\n",
       "\t<tr><th scope=row>33</th><td>GP</td><td>male  </td><td>15</td><td>R</td><td>GT3</td><td>T</td><td>4</td><td>3</td><td>teacher </td><td>at_home </td><td>⋯</td><td>4</td><td>6</td><td>2</td><td>1</td><td>1</td><td>5</td><td> 0</td><td>17</td><td>16</td><td>16</td></tr>\n",
       "\t<tr><th scope=row>34</th><td>GP</td><td>male  </td><td>15</td><td>U</td><td>LE3</td><td>T</td><td>3</td><td>3</td><td>other   </td><td>other   </td><td>⋯</td><td>5</td><td>4</td><td>2</td><td>1</td><td>1</td><td>2</td><td> 0</td><td> 8</td><td>10</td><td>12</td></tr>\n",
       "\t<tr><th scope=row>35</th><td>GP</td><td>male  </td><td>16</td><td>U</td><td>GT3</td><td>T</td><td>3</td><td>2</td><td>other   </td><td>other   </td><td>⋯</td><td>5</td><td>5</td><td>3</td><td>1</td><td>1</td><td>5</td><td> 0</td><td>12</td><td>14</td><td>15</td></tr>\n",
       "\t<tr><th scope=row>36</th><td>GP</td><td>female</td><td>15</td><td>U</td><td>GT3</td><td>T</td><td>2</td><td>3</td><td>other   </td><td>other   </td><td>⋯</td><td>3</td><td>6</td><td>1</td><td>1</td><td>1</td><td>5</td><td> 0</td><td> 8</td><td> 7</td><td> 6</td></tr>\n",
       "\t<tr><th scope=row>37</th><td>GP</td><td>male  </td><td>15</td><td>U</td><td>LE3</td><td>T</td><td>4</td><td>3</td><td>teacher </td><td>services</td><td>⋯</td><td>5</td><td>5</td><td>3</td><td>1</td><td>1</td><td>4</td><td> 2</td><td>15</td><td>16</td><td>18</td></tr>\n",
       "\t<tr><th scope=row>38</th><td>GP</td><td>male  </td><td>16</td><td>R</td><td>GT3</td><td>A</td><td>4</td><td>4</td><td>other   </td><td>teacher </td><td>⋯</td><td>2</td><td>5</td><td>3</td><td>1</td><td>1</td><td>5</td><td> 7</td><td>15</td><td>16</td><td>15</td></tr>\n",
       "\t<tr><th scope=row>39</th><td>GP</td><td>female</td><td>15</td><td>R</td><td>GT3</td><td>T</td><td>3</td><td>4</td><td>services</td><td>health  </td><td>⋯</td><td>4</td><td>4</td><td>2</td><td>1</td><td>1</td><td>5</td><td> 2</td><td>12</td><td>12</td><td>11</td></tr>\n",
       "\t<tr><th scope=row>40</th><td>GP</td><td>female</td><td>15</td><td>R</td><td>GT3</td><td>T</td><td>2</td><td>2</td><td>at_home </td><td>other   </td><td>⋯</td><td>4</td><td>4</td><td>1</td><td>1</td><td>1</td><td>2</td><td> 8</td><td>14</td><td>13</td><td>13</td></tr>\n",
       "\t<tr><th scope=row>41</th><td>GP</td><td>female</td><td>16</td><td>U</td><td>LE3</td><td>T</td><td>2</td><td>2</td><td>other   </td><td>other   </td><td>⋯</td><td>3</td><td>4</td><td>3</td><td>1</td><td>2</td><td>3</td><td>20</td><td> 7</td><td>10</td><td>11</td></tr>\n",
       "\t<tr><th scope=row>42</th><td>GP</td><td>male  </td><td>15</td><td>U</td><td>LE3</td><td>T</td><td>4</td><td>4</td><td>teacher </td><td>other   </td><td>⋯</td><td>5</td><td>5</td><td>3</td><td>2</td><td>4</td><td>5</td><td> 8</td><td>12</td><td>12</td><td>12</td></tr>\n",
       "\t<tr><th scope=row>43</th><td>GP</td><td>male  </td><td>15</td><td>U</td><td>GT3</td><td>T</td><td>4</td><td>4</td><td>services</td><td>teacher </td><td>⋯</td><td>4</td><td>4</td><td>3</td><td>1</td><td>1</td><td>5</td><td> 2</td><td>19</td><td>18</td><td>18</td></tr>\n",
       "\t<tr><th scope=row>44</th><td>GP</td><td>male  </td><td>15</td><td>U</td><td>GT3</td><td>T</td><td>2</td><td>2</td><td>services</td><td>services</td><td>⋯</td><td>5</td><td>5</td><td>1</td><td>1</td><td>1</td><td>1</td><td> 0</td><td> 8</td><td> 8</td><td>11</td></tr>\n",
       "\t<tr><th scope=row>45</th><td>GP</td><td>female</td><td>16</td><td>U</td><td>LE3</td><td>T</td><td>2</td><td>2</td><td>other   </td><td>at_home </td><td>⋯</td><td>4</td><td>4</td><td>3</td><td>2</td><td>2</td><td>5</td><td>14</td><td>10</td><td>10</td><td> 9</td></tr>\n",
       "\t<tr><th scope=row>46</th><td>GP</td><td>female</td><td>15</td><td>U</td><td>LE3</td><td>A</td><td>4</td><td>3</td><td>other   </td><td>other   </td><td>⋯</td><td>5</td><td>3</td><td>2</td><td>1</td><td>1</td><td>5</td><td> 8</td><td> 8</td><td> 8</td><td> 6</td></tr>\n",
       "\t<tr><th scope=row>47</th><td>GP</td><td>female</td><td>16</td><td>U</td><td>LE3</td><td>A</td><td>3</td><td>3</td><td>other   </td><td>services</td><td>⋯</td><td>2</td><td>4</td><td>5</td><td>1</td><td>4</td><td>3</td><td>12</td><td>11</td><td>12</td><td>11</td></tr>\n",
       "\t<tr><th scope=row>48</th><td>GP</td><td>male  </td><td>16</td><td>U</td><td>GT3</td><td>T</td><td>4</td><td>3</td><td>health  </td><td>services</td><td>⋯</td><td>4</td><td>3</td><td>2</td><td>1</td><td>1</td><td>2</td><td> 4</td><td>19</td><td>19</td><td>20</td></tr>\n",
       "\t<tr><th scope=row>49</th><td>GP</td><td>male  </td><td>15</td><td>U</td><td>GT3</td><td>T</td><td>4</td><td>2</td><td>teacher </td><td>other   </td><td>⋯</td><td>4</td><td>4</td><td>3</td><td>2</td><td>2</td><td>5</td><td> 2</td><td>15</td><td>15</td><td>14</td></tr>\n",
       "\t<tr><th scope=row>50</th><td>GP</td><td>female</td><td>15</td><td>U</td><td>GT3</td><td>T</td><td>4</td><td>4</td><td>services</td><td>teacher </td><td>⋯</td><td>4</td><td>5</td><td>4</td><td>1</td><td>1</td><td>3</td><td> 2</td><td> 7</td><td> 7</td><td> 7</td></tr>\n",
       "\t<tr><th scope=row>51</th><td>GP</td><td>female</td><td>16</td><td>U</td><td>LE3</td><td>T</td><td>2</td><td>2</td><td>services</td><td>services</td><td>⋯</td><td>4</td><td>4</td><td>3</td><td>2</td><td>3</td><td>4</td><td> 2</td><td>12</td><td>13</td><td>13</td></tr>\n",
       "\t<tr><th scope=row>52</th><td>GP</td><td>female</td><td>15</td><td>U</td><td>LE3</td><td>T</td><td>4</td><td>2</td><td>health  </td><td>other   </td><td>⋯</td><td>4</td><td>4</td><td>3</td><td>1</td><td>1</td><td>5</td><td> 2</td><td>11</td><td>13</td><td>13</td></tr>\n",
       "\t<tr><th scope=row>⋮</th><td>⋮</td><td>⋮</td><td>⋮</td><td>⋮</td><td>⋮</td><td>⋮</td><td>⋮</td><td>⋮</td><td>⋮</td><td>⋮</td><td>⋱</td><td>⋮</td><td>⋮</td><td>⋮</td><td>⋮</td><td>⋮</td><td>⋮</td><td>⋮</td><td>⋮</td><td>⋮</td><td>⋮</td></tr>\n",
       "\t<tr><th scope=row>366</th><td>MS</td><td>male  </td><td>18</td><td>R</td><td>GT3</td><td>T</td><td>1</td><td>3</td><td>at_home </td><td>other   </td><td>⋯</td><td>3</td><td>4</td><td>4</td><td>2</td><td>4</td><td>3</td><td> 4</td><td>10</td><td>10</td><td>10</td></tr>\n",
       "\t<tr><th scope=row>367</th><td>MS</td><td>male  </td><td>18</td><td>U</td><td>LE3</td><td>T</td><td>4</td><td>4</td><td>teacher </td><td>services</td><td>⋯</td><td>4</td><td>3</td><td>2</td><td>2</td><td>2</td><td>5</td><td> 0</td><td>13</td><td>13</td><td>13</td></tr>\n",
       "\t<tr><th scope=row>368</th><td>MS</td><td>female</td><td>17</td><td>R</td><td>GT3</td><td>T</td><td>1</td><td>1</td><td>other   </td><td>services</td><td>⋯</td><td>5</td><td>3</td><td>1</td><td>1</td><td>2</td><td>1</td><td> 0</td><td> 7</td><td> 6</td><td> 0</td></tr>\n",
       "\t<tr><th scope=row>369</th><td>MS</td><td>female</td><td>18</td><td>U</td><td>GT3</td><td>T</td><td>2</td><td>3</td><td>at_home </td><td>services</td><td>⋯</td><td>5</td><td>3</td><td>3</td><td>1</td><td>2</td><td>4</td><td> 0</td><td>11</td><td>10</td><td>10</td></tr>\n",
       "\t<tr><th scope=row>370</th><td>MS</td><td>female</td><td>18</td><td>R</td><td>GT3</td><td>T</td><td>4</td><td>4</td><td>other   </td><td>teacher </td><td>⋯</td><td>3</td><td>3</td><td>2</td><td>4</td><td>2</td><td>5</td><td>10</td><td>14</td><td>12</td><td>11</td></tr>\n",
       "\t<tr><th scope=row>371</th><td>MS</td><td>female</td><td>19</td><td>U</td><td>LE3</td><td>T</td><td>3</td><td>2</td><td>services</td><td>services</td><td>⋯</td><td>3</td><td>3</td><td>2</td><td>1</td><td>1</td><td>3</td><td> 4</td><td> 7</td><td> 7</td><td> 9</td></tr>\n",
       "\t<tr><th scope=row>372</th><td>MS</td><td>male  </td><td>18</td><td>R</td><td>LE3</td><td>T</td><td>1</td><td>2</td><td>at_home </td><td>services</td><td>⋯</td><td>4</td><td>4</td><td>3</td><td>2</td><td>3</td><td>3</td><td> 3</td><td>14</td><td>12</td><td>12</td></tr>\n",
       "\t<tr><th scope=row>373</th><td>MS</td><td>female</td><td>17</td><td>U</td><td>GT3</td><td>T</td><td>2</td><td>2</td><td>other   </td><td>at_home </td><td>⋯</td><td>3</td><td>5</td><td>3</td><td>1</td><td>1</td><td>3</td><td> 8</td><td>13</td><td>11</td><td>11</td></tr>\n",
       "\t<tr><th scope=row>374</th><td>MS</td><td>female</td><td>17</td><td>R</td><td>GT3</td><td>T</td><td>1</td><td>2</td><td>other   </td><td>other   </td><td>⋯</td><td>3</td><td>6</td><td>5</td><td>1</td><td>3</td><td>1</td><td>14</td><td> 6</td><td> 5</td><td> 5</td></tr>\n",
       "\t<tr><th scope=row>375</th><td>MS</td><td>female</td><td>18</td><td>R</td><td>LE3</td><td>T</td><td>4</td><td>4</td><td>other   </td><td>other   </td><td>⋯</td><td>5</td><td>5</td><td>4</td><td>1</td><td>1</td><td>1</td><td> 0</td><td>19</td><td>18</td><td>19</td></tr>\n",
       "\t<tr><th scope=row>376</th><td>MS</td><td>female</td><td>18</td><td>R</td><td>GT3</td><td>T</td><td>1</td><td>1</td><td>other   </td><td>other   </td><td>⋯</td><td>4</td><td>4</td><td>2</td><td>1</td><td>2</td><td>4</td><td> 2</td><td> 8</td><td> 8</td><td>10</td></tr>\n",
       "\t<tr><th scope=row>377</th><td>MS</td><td>female</td><td>20</td><td>U</td><td>GT3</td><td>T</td><td>4</td><td>2</td><td>health  </td><td>other   </td><td>⋯</td><td>5</td><td>5</td><td>3</td><td>1</td><td>1</td><td>3</td><td> 4</td><td>15</td><td>14</td><td>15</td></tr>\n",
       "\t<tr><th scope=row>378</th><td>MS</td><td>female</td><td>18</td><td>R</td><td>LE3</td><td>T</td><td>4</td><td>4</td><td>teacher </td><td>services</td><td>⋯</td><td>5</td><td>5</td><td>3</td><td>3</td><td>4</td><td>2</td><td> 4</td><td> 8</td><td> 9</td><td>10</td></tr>\n",
       "\t<tr><th scope=row>379</th><td>MS</td><td>female</td><td>18</td><td>U</td><td>GT3</td><td>T</td><td>3</td><td>3</td><td>other   </td><td>other   </td><td>⋯</td><td>4</td><td>2</td><td>3</td><td>1</td><td>2</td><td>1</td><td> 0</td><td>15</td><td>15</td><td>15</td></tr>\n",
       "\t<tr><th scope=row>380</th><td>MS</td><td>female</td><td>17</td><td>R</td><td>GT3</td><td>T</td><td>3</td><td>1</td><td>at_home </td><td>other   </td><td>⋯</td><td>4</td><td>6</td><td>4</td><td>2</td><td>3</td><td>1</td><td>17</td><td>10</td><td>10</td><td>10</td></tr>\n",
       "\t<tr><th scope=row>381</th><td>MS</td><td>male  </td><td>18</td><td>U</td><td>GT3</td><td>T</td><td>4</td><td>4</td><td>teacher </td><td>teacher </td><td>⋯</td><td>3</td><td>3</td><td>4</td><td>1</td><td>4</td><td>2</td><td> 4</td><td>15</td><td>14</td><td>14</td></tr>\n",
       "\t<tr><th scope=row>382</th><td>MS</td><td>male  </td><td>18</td><td>R</td><td>GT3</td><td>T</td><td>2</td><td>1</td><td>other   </td><td>other   </td><td>⋯</td><td>4</td><td>5</td><td>3</td><td>1</td><td>3</td><td>5</td><td> 5</td><td> 7</td><td> 6</td><td> 7</td></tr>\n",
       "\t<tr><th scope=row>383</th><td>MS</td><td>male  </td><td>17</td><td>U</td><td>GT3</td><td>T</td><td>2</td><td>3</td><td>other   </td><td>services</td><td>⋯</td><td>4</td><td>5</td><td>3</td><td>1</td><td>1</td><td>3</td><td> 2</td><td>11</td><td>11</td><td>10</td></tr>\n",
       "\t<tr><th scope=row>384</th><td>MS</td><td>male  </td><td>19</td><td>R</td><td>GT3</td><td>T</td><td>1</td><td>1</td><td>other   </td><td>services</td><td>⋯</td><td>4</td><td>4</td><td>2</td><td>1</td><td>3</td><td>5</td><td> 0</td><td> 6</td><td> 5</td><td> 0</td></tr>\n",
       "\t<tr><th scope=row>385</th><td>MS</td><td>male  </td><td>18</td><td>R</td><td>GT3</td><td>T</td><td>4</td><td>2</td><td>other   </td><td>other   </td><td>⋯</td><td>5</td><td>5</td><td>3</td><td>4</td><td>3</td><td>3</td><td>14</td><td> 6</td><td> 5</td><td> 5</td></tr>\n",
       "\t<tr><th scope=row>386</th><td>MS</td><td>female</td><td>18</td><td>R</td><td>GT3</td><td>T</td><td>2</td><td>2</td><td>at_home </td><td>other   </td><td>⋯</td><td>5</td><td>4</td><td>3</td><td>1</td><td>3</td><td>4</td><td> 2</td><td>10</td><td> 9</td><td>10</td></tr>\n",
       "\t<tr><th scope=row>387</th><td>MS</td><td>female</td><td>18</td><td>R</td><td>GT3</td><td>T</td><td>4</td><td>4</td><td>teacher </td><td>at_home </td><td>⋯</td><td>4</td><td>5</td><td>3</td><td>2</td><td>2</td><td>5</td><td> 7</td><td> 6</td><td> 5</td><td> 6</td></tr>\n",
       "\t<tr><th scope=row>388</th><td>MS</td><td>female</td><td>19</td><td>R</td><td>GT3</td><td>T</td><td>2</td><td>3</td><td>services</td><td>other   </td><td>⋯</td><td>5</td><td>5</td><td>2</td><td>1</td><td>2</td><td>5</td><td> 0</td><td> 7</td><td> 5</td><td> 0</td></tr>\n",
       "\t<tr><th scope=row>389</th><td>MS</td><td>female</td><td>18</td><td>U</td><td>LE3</td><td>T</td><td>3</td><td>1</td><td>teacher </td><td>services</td><td>⋯</td><td>4</td><td>4</td><td>4</td><td>1</td><td>1</td><td>1</td><td> 0</td><td> 7</td><td> 9</td><td> 8</td></tr>\n",
       "\t<tr><th scope=row>390</th><td>MS</td><td>female</td><td>18</td><td>U</td><td>GT3</td><td>T</td><td>1</td><td>1</td><td>other   </td><td>other   </td><td>⋯</td><td>1</td><td>2</td><td>1</td><td>1</td><td>1</td><td>5</td><td> 0</td><td> 6</td><td> 5</td><td> 0</td></tr>\n",
       "\t<tr><th scope=row>391</th><td>MS</td><td>male  </td><td>20</td><td>U</td><td>LE3</td><td>A</td><td>2</td><td>2</td><td>services</td><td>services</td><td>⋯</td><td>5</td><td>6</td><td>4</td><td>4</td><td>5</td><td>4</td><td>11</td><td> 9</td><td> 9</td><td> 9</td></tr>\n",
       "\t<tr><th scope=row>392</th><td>MS</td><td>male  </td><td>17</td><td>U</td><td>LE3</td><td>T</td><td>3</td><td>1</td><td>services</td><td>services</td><td>⋯</td><td>2</td><td>5</td><td>5</td><td>3</td><td>4</td><td>2</td><td> 3</td><td>14</td><td>16</td><td>16</td></tr>\n",
       "\t<tr><th scope=row>393</th><td>MS</td><td>male  </td><td>21</td><td>R</td><td>GT3</td><td>T</td><td>1</td><td>1</td><td>other   </td><td>other   </td><td>⋯</td><td>5</td><td>6</td><td>3</td><td>3</td><td>3</td><td>3</td><td> 3</td><td>10</td><td> 8</td><td> 7</td></tr>\n",
       "\t<tr><th scope=row>394</th><td>MS</td><td>male  </td><td>18</td><td>R</td><td>LE3</td><td>T</td><td>3</td><td>2</td><td>services</td><td>other   </td><td>⋯</td><td>4</td><td>5</td><td>1</td><td>3</td><td>4</td><td>5</td><td> 0</td><td>11</td><td>12</td><td>10</td></tr>\n",
       "\t<tr><th scope=row>395</th><td>MS</td><td>male  </td><td>19</td><td>U</td><td>LE3</td><td>T</td><td>1</td><td>1</td><td>other   </td><td>at_home </td><td>⋯</td><td>3</td><td>3</td><td>3</td><td>3</td><td>3</td><td>5</td><td> 5</td><td> 8</td><td> 9</td><td> 9</td></tr>\n",
       "</tbody>\n",
       "</table>\n"
      ],
      "text/latex": [
       "A data.frame: 373 × 33\n",
       "\\begin{tabular}{r|lllllllllllllllllllll}\n",
       "  & school & sex & age & address & famsize & Pstatus & Medu & Fedu & Mjob & Fjob & ⋯ & famrel & freetime & goout & Dalc & Walc & health & absences & G1 & G2 & G3\\\\\n",
       "  & <fct> & <chr> & <int> & <fct> & <fct> & <fct> & <int> & <int> & <fct> & <fct> & ⋯ & <int> & <int> & <int> & <int> & <int> & <int> & <dbl> & <int> & <int> & <int>\\\\\n",
       "\\hline\n",
       "\t1 & GP & female & 18 & U & GT3 & A & 4 & 4 & at\\_home  & teacher  & ⋯ & 4 & 4 & 4 & 1 & 1 & 3 &  5 &  5 &  6 &  6\\\\\n",
       "\t2 & GP & female & 17 & U & GT3 & T & 1 & 1 & at\\_home  & other    & ⋯ & 5 & 4 & 3 & 1 & 1 & 3 &  5 &  5 &  5 &  6\\\\\n",
       "\t3 & GP & female & 15 & U & LE3 & T & 1 & 1 & at\\_home  & other    & ⋯ & 4 & 4 & 2 & 2 & 3 & 3 & 10 &  7 &  8 & 10\\\\\n",
       "\t4 & GP & female & 15 & U & GT3 & T & 4 & 2 & health   & services & ⋯ & 3 & 3 & 2 & 1 & 1 & 5 &  2 & 15 & 14 & 15\\\\\n",
       "\t5 & GP & female & 16 & U & GT3 & T & 3 & 3 & other    & other    & ⋯ & 4 & 4 & 2 & 1 & 2 & 5 &  4 &  6 & 10 & 10\\\\\n",
       "\t6 & GP & male   & 16 & U & LE3 & T & 4 & 3 & services & other    & ⋯ & 5 & 5 & 2 & 1 & 2 & 5 & 10 & 15 & 15 & 15\\\\\n",
       "\t7 & GP & male   & 16 & U & LE3 & T & 2 & 2 & other    & other    & ⋯ & 4 & 5 & 4 & 1 & 1 & 3 &  0 & 12 & 12 & 11\\\\\n",
       "\t30 & GP & male   & 16 & U & GT3 & T & 4 & 4 & teacher  & teacher  & ⋯ & 4 & 5 & 5 & 5 & 5 & 5 & 16 & 10 & 12 & 11\\\\\n",
       "\t31 & GP & male   & 15 & U & GT3 & T & 4 & 4 & health   & services & ⋯ & 5 & 5 & 2 & 3 & 4 & 5 &  0 &  9 & 11 & 12\\\\\n",
       "\t32 & GP & male   & 15 & U & GT3 & T & 4 & 4 & services & services & ⋯ & 4 & 4 & 1 & 1 & 1 & 5 &  0 & 17 & 16 & 17\\\\\n",
       "\t33 & GP & male   & 15 & R & GT3 & T & 4 & 3 & teacher  & at\\_home  & ⋯ & 4 & 6 & 2 & 1 & 1 & 5 &  0 & 17 & 16 & 16\\\\\n",
       "\t34 & GP & male   & 15 & U & LE3 & T & 3 & 3 & other    & other    & ⋯ & 5 & 4 & 2 & 1 & 1 & 2 &  0 &  8 & 10 & 12\\\\\n",
       "\t35 & GP & male   & 16 & U & GT3 & T & 3 & 2 & other    & other    & ⋯ & 5 & 5 & 3 & 1 & 1 & 5 &  0 & 12 & 14 & 15\\\\\n",
       "\t36 & GP & female & 15 & U & GT3 & T & 2 & 3 & other    & other    & ⋯ & 3 & 6 & 1 & 1 & 1 & 5 &  0 &  8 &  7 &  6\\\\\n",
       "\t37 & GP & male   & 15 & U & LE3 & T & 4 & 3 & teacher  & services & ⋯ & 5 & 5 & 3 & 1 & 1 & 4 &  2 & 15 & 16 & 18\\\\\n",
       "\t38 & GP & male   & 16 & R & GT3 & A & 4 & 4 & other    & teacher  & ⋯ & 2 & 5 & 3 & 1 & 1 & 5 &  7 & 15 & 16 & 15\\\\\n",
       "\t39 & GP & female & 15 & R & GT3 & T & 3 & 4 & services & health   & ⋯ & 4 & 4 & 2 & 1 & 1 & 5 &  2 & 12 & 12 & 11\\\\\n",
       "\t40 & GP & female & 15 & R & GT3 & T & 2 & 2 & at\\_home  & other    & ⋯ & 4 & 4 & 1 & 1 & 1 & 2 &  8 & 14 & 13 & 13\\\\\n",
       "\t41 & GP & female & 16 & U & LE3 & T & 2 & 2 & other    & other    & ⋯ & 3 & 4 & 3 & 1 & 2 & 3 & 20 &  7 & 10 & 11\\\\\n",
       "\t42 & GP & male   & 15 & U & LE3 & T & 4 & 4 & teacher  & other    & ⋯ & 5 & 5 & 3 & 2 & 4 & 5 &  8 & 12 & 12 & 12\\\\\n",
       "\t43 & GP & male   & 15 & U & GT3 & T & 4 & 4 & services & teacher  & ⋯ & 4 & 4 & 3 & 1 & 1 & 5 &  2 & 19 & 18 & 18\\\\\n",
       "\t44 & GP & male   & 15 & U & GT3 & T & 2 & 2 & services & services & ⋯ & 5 & 5 & 1 & 1 & 1 & 1 &  0 &  8 &  8 & 11\\\\\n",
       "\t45 & GP & female & 16 & U & LE3 & T & 2 & 2 & other    & at\\_home  & ⋯ & 4 & 4 & 3 & 2 & 2 & 5 & 14 & 10 & 10 &  9\\\\\n",
       "\t46 & GP & female & 15 & U & LE3 & A & 4 & 3 & other    & other    & ⋯ & 5 & 3 & 2 & 1 & 1 & 5 &  8 &  8 &  8 &  6\\\\\n",
       "\t47 & GP & female & 16 & U & LE3 & A & 3 & 3 & other    & services & ⋯ & 2 & 4 & 5 & 1 & 4 & 3 & 12 & 11 & 12 & 11\\\\\n",
       "\t48 & GP & male   & 16 & U & GT3 & T & 4 & 3 & health   & services & ⋯ & 4 & 3 & 2 & 1 & 1 & 2 &  4 & 19 & 19 & 20\\\\\n",
       "\t49 & GP & male   & 15 & U & GT3 & T & 4 & 2 & teacher  & other    & ⋯ & 4 & 4 & 3 & 2 & 2 & 5 &  2 & 15 & 15 & 14\\\\\n",
       "\t50 & GP & female & 15 & U & GT3 & T & 4 & 4 & services & teacher  & ⋯ & 4 & 5 & 4 & 1 & 1 & 3 &  2 &  7 &  7 &  7\\\\\n",
       "\t51 & GP & female & 16 & U & LE3 & T & 2 & 2 & services & services & ⋯ & 4 & 4 & 3 & 2 & 3 & 4 &  2 & 12 & 13 & 13\\\\\n",
       "\t52 & GP & female & 15 & U & LE3 & T & 4 & 2 & health   & other    & ⋯ & 4 & 4 & 3 & 1 & 1 & 5 &  2 & 11 & 13 & 13\\\\\n",
       "\t⋮ & ⋮ & ⋮ & ⋮ & ⋮ & ⋮ & ⋮ & ⋮ & ⋮ & ⋮ & ⋮ & ⋱ & ⋮ & ⋮ & ⋮ & ⋮ & ⋮ & ⋮ & ⋮ & ⋮ & ⋮ & ⋮\\\\\n",
       "\t366 & MS & male   & 18 & R & GT3 & T & 1 & 3 & at\\_home  & other    & ⋯ & 3 & 4 & 4 & 2 & 4 & 3 &  4 & 10 & 10 & 10\\\\\n",
       "\t367 & MS & male   & 18 & U & LE3 & T & 4 & 4 & teacher  & services & ⋯ & 4 & 3 & 2 & 2 & 2 & 5 &  0 & 13 & 13 & 13\\\\\n",
       "\t368 & MS & female & 17 & R & GT3 & T & 1 & 1 & other    & services & ⋯ & 5 & 3 & 1 & 1 & 2 & 1 &  0 &  7 &  6 &  0\\\\\n",
       "\t369 & MS & female & 18 & U & GT3 & T & 2 & 3 & at\\_home  & services & ⋯ & 5 & 3 & 3 & 1 & 2 & 4 &  0 & 11 & 10 & 10\\\\\n",
       "\t370 & MS & female & 18 & R & GT3 & T & 4 & 4 & other    & teacher  & ⋯ & 3 & 3 & 2 & 4 & 2 & 5 & 10 & 14 & 12 & 11\\\\\n",
       "\t371 & MS & female & 19 & U & LE3 & T & 3 & 2 & services & services & ⋯ & 3 & 3 & 2 & 1 & 1 & 3 &  4 &  7 &  7 &  9\\\\\n",
       "\t372 & MS & male   & 18 & R & LE3 & T & 1 & 2 & at\\_home  & services & ⋯ & 4 & 4 & 3 & 2 & 3 & 3 &  3 & 14 & 12 & 12\\\\\n",
       "\t373 & MS & female & 17 & U & GT3 & T & 2 & 2 & other    & at\\_home  & ⋯ & 3 & 5 & 3 & 1 & 1 & 3 &  8 & 13 & 11 & 11\\\\\n",
       "\t374 & MS & female & 17 & R & GT3 & T & 1 & 2 & other    & other    & ⋯ & 3 & 6 & 5 & 1 & 3 & 1 & 14 &  6 &  5 &  5\\\\\n",
       "\t375 & MS & female & 18 & R & LE3 & T & 4 & 4 & other    & other    & ⋯ & 5 & 5 & 4 & 1 & 1 & 1 &  0 & 19 & 18 & 19\\\\\n",
       "\t376 & MS & female & 18 & R & GT3 & T & 1 & 1 & other    & other    & ⋯ & 4 & 4 & 2 & 1 & 2 & 4 &  2 &  8 &  8 & 10\\\\\n",
       "\t377 & MS & female & 20 & U & GT3 & T & 4 & 2 & health   & other    & ⋯ & 5 & 5 & 3 & 1 & 1 & 3 &  4 & 15 & 14 & 15\\\\\n",
       "\t378 & MS & female & 18 & R & LE3 & T & 4 & 4 & teacher  & services & ⋯ & 5 & 5 & 3 & 3 & 4 & 2 &  4 &  8 &  9 & 10\\\\\n",
       "\t379 & MS & female & 18 & U & GT3 & T & 3 & 3 & other    & other    & ⋯ & 4 & 2 & 3 & 1 & 2 & 1 &  0 & 15 & 15 & 15\\\\\n",
       "\t380 & MS & female & 17 & R & GT3 & T & 3 & 1 & at\\_home  & other    & ⋯ & 4 & 6 & 4 & 2 & 3 & 1 & 17 & 10 & 10 & 10\\\\\n",
       "\t381 & MS & male   & 18 & U & GT3 & T & 4 & 4 & teacher  & teacher  & ⋯ & 3 & 3 & 4 & 1 & 4 & 2 &  4 & 15 & 14 & 14\\\\\n",
       "\t382 & MS & male   & 18 & R & GT3 & T & 2 & 1 & other    & other    & ⋯ & 4 & 5 & 3 & 1 & 3 & 5 &  5 &  7 &  6 &  7\\\\\n",
       "\t383 & MS & male   & 17 & U & GT3 & T & 2 & 3 & other    & services & ⋯ & 4 & 5 & 3 & 1 & 1 & 3 &  2 & 11 & 11 & 10\\\\\n",
       "\t384 & MS & male   & 19 & R & GT3 & T & 1 & 1 & other    & services & ⋯ & 4 & 4 & 2 & 1 & 3 & 5 &  0 &  6 &  5 &  0\\\\\n",
       "\t385 & MS & male   & 18 & R & GT3 & T & 4 & 2 & other    & other    & ⋯ & 5 & 5 & 3 & 4 & 3 & 3 & 14 &  6 &  5 &  5\\\\\n",
       "\t386 & MS & female & 18 & R & GT3 & T & 2 & 2 & at\\_home  & other    & ⋯ & 5 & 4 & 3 & 1 & 3 & 4 &  2 & 10 &  9 & 10\\\\\n",
       "\t387 & MS & female & 18 & R & GT3 & T & 4 & 4 & teacher  & at\\_home  & ⋯ & 4 & 5 & 3 & 2 & 2 & 5 &  7 &  6 &  5 &  6\\\\\n",
       "\t388 & MS & female & 19 & R & GT3 & T & 2 & 3 & services & other    & ⋯ & 5 & 5 & 2 & 1 & 2 & 5 &  0 &  7 &  5 &  0\\\\\n",
       "\t389 & MS & female & 18 & U & LE3 & T & 3 & 1 & teacher  & services & ⋯ & 4 & 4 & 4 & 1 & 1 & 1 &  0 &  7 &  9 &  8\\\\\n",
       "\t390 & MS & female & 18 & U & GT3 & T & 1 & 1 & other    & other    & ⋯ & 1 & 2 & 1 & 1 & 1 & 5 &  0 &  6 &  5 &  0\\\\\n",
       "\t391 & MS & male   & 20 & U & LE3 & A & 2 & 2 & services & services & ⋯ & 5 & 6 & 4 & 4 & 5 & 4 & 11 &  9 &  9 &  9\\\\\n",
       "\t392 & MS & male   & 17 & U & LE3 & T & 3 & 1 & services & services & ⋯ & 2 & 5 & 5 & 3 & 4 & 2 &  3 & 14 & 16 & 16\\\\\n",
       "\t393 & MS & male   & 21 & R & GT3 & T & 1 & 1 & other    & other    & ⋯ & 5 & 6 & 3 & 3 & 3 & 3 &  3 & 10 &  8 &  7\\\\\n",
       "\t394 & MS & male   & 18 & R & LE3 & T & 3 & 2 & services & other    & ⋯ & 4 & 5 & 1 & 3 & 4 & 5 &  0 & 11 & 12 & 10\\\\\n",
       "\t395 & MS & male   & 19 & U & LE3 & T & 1 & 1 & other    & at\\_home  & ⋯ & 3 & 3 & 3 & 3 & 3 & 5 &  5 &  8 &  9 &  9\\\\\n",
       "\\end{tabular}\n"
      ],
      "text/markdown": [
       "\n",
       "A data.frame: 373 × 33\n",
       "\n",
       "| <!--/--> | school &lt;fct&gt; | sex &lt;chr&gt; | age &lt;int&gt; | address &lt;fct&gt; | famsize &lt;fct&gt; | Pstatus &lt;fct&gt; | Medu &lt;int&gt; | Fedu &lt;int&gt; | Mjob &lt;fct&gt; | Fjob &lt;fct&gt; | ⋯ ⋯ | famrel &lt;int&gt; | freetime &lt;int&gt; | goout &lt;int&gt; | Dalc &lt;int&gt; | Walc &lt;int&gt; | health &lt;int&gt; | absences &lt;dbl&gt; | G1 &lt;int&gt; | G2 &lt;int&gt; | G3 &lt;int&gt; |\n",
       "|---|---|---|---|---|---|---|---|---|---|---|---|---|---|---|---|---|---|---|---|---|---|\n",
       "| 1 | GP | female | 18 | U | GT3 | A | 4 | 4 | at_home  | teacher  | ⋯ | 4 | 4 | 4 | 1 | 1 | 3 |  5 |  5 |  6 |  6 |\n",
       "| 2 | GP | female | 17 | U | GT3 | T | 1 | 1 | at_home  | other    | ⋯ | 5 | 4 | 3 | 1 | 1 | 3 |  5 |  5 |  5 |  6 |\n",
       "| 3 | GP | female | 15 | U | LE3 | T | 1 | 1 | at_home  | other    | ⋯ | 4 | 4 | 2 | 2 | 3 | 3 | 10 |  7 |  8 | 10 |\n",
       "| 4 | GP | female | 15 | U | GT3 | T | 4 | 2 | health   | services | ⋯ | 3 | 3 | 2 | 1 | 1 | 5 |  2 | 15 | 14 | 15 |\n",
       "| 5 | GP | female | 16 | U | GT3 | T | 3 | 3 | other    | other    | ⋯ | 4 | 4 | 2 | 1 | 2 | 5 |  4 |  6 | 10 | 10 |\n",
       "| 6 | GP | male   | 16 | U | LE3 | T | 4 | 3 | services | other    | ⋯ | 5 | 5 | 2 | 1 | 2 | 5 | 10 | 15 | 15 | 15 |\n",
       "| 7 | GP | male   | 16 | U | LE3 | T | 2 | 2 | other    | other    | ⋯ | 4 | 5 | 4 | 1 | 1 | 3 |  0 | 12 | 12 | 11 |\n",
       "| 30 | GP | male   | 16 | U | GT3 | T | 4 | 4 | teacher  | teacher  | ⋯ | 4 | 5 | 5 | 5 | 5 | 5 | 16 | 10 | 12 | 11 |\n",
       "| 31 | GP | male   | 15 | U | GT3 | T | 4 | 4 | health   | services | ⋯ | 5 | 5 | 2 | 3 | 4 | 5 |  0 |  9 | 11 | 12 |\n",
       "| 32 | GP | male   | 15 | U | GT3 | T | 4 | 4 | services | services | ⋯ | 4 | 4 | 1 | 1 | 1 | 5 |  0 | 17 | 16 | 17 |\n",
       "| 33 | GP | male   | 15 | R | GT3 | T | 4 | 3 | teacher  | at_home  | ⋯ | 4 | 6 | 2 | 1 | 1 | 5 |  0 | 17 | 16 | 16 |\n",
       "| 34 | GP | male   | 15 | U | LE3 | T | 3 | 3 | other    | other    | ⋯ | 5 | 4 | 2 | 1 | 1 | 2 |  0 |  8 | 10 | 12 |\n",
       "| 35 | GP | male   | 16 | U | GT3 | T | 3 | 2 | other    | other    | ⋯ | 5 | 5 | 3 | 1 | 1 | 5 |  0 | 12 | 14 | 15 |\n",
       "| 36 | GP | female | 15 | U | GT3 | T | 2 | 3 | other    | other    | ⋯ | 3 | 6 | 1 | 1 | 1 | 5 |  0 |  8 |  7 |  6 |\n",
       "| 37 | GP | male   | 15 | U | LE3 | T | 4 | 3 | teacher  | services | ⋯ | 5 | 5 | 3 | 1 | 1 | 4 |  2 | 15 | 16 | 18 |\n",
       "| 38 | GP | male   | 16 | R | GT3 | A | 4 | 4 | other    | teacher  | ⋯ | 2 | 5 | 3 | 1 | 1 | 5 |  7 | 15 | 16 | 15 |\n",
       "| 39 | GP | female | 15 | R | GT3 | T | 3 | 4 | services | health   | ⋯ | 4 | 4 | 2 | 1 | 1 | 5 |  2 | 12 | 12 | 11 |\n",
       "| 40 | GP | female | 15 | R | GT3 | T | 2 | 2 | at_home  | other    | ⋯ | 4 | 4 | 1 | 1 | 1 | 2 |  8 | 14 | 13 | 13 |\n",
       "| 41 | GP | female | 16 | U | LE3 | T | 2 | 2 | other    | other    | ⋯ | 3 | 4 | 3 | 1 | 2 | 3 | 20 |  7 | 10 | 11 |\n",
       "| 42 | GP | male   | 15 | U | LE3 | T | 4 | 4 | teacher  | other    | ⋯ | 5 | 5 | 3 | 2 | 4 | 5 |  8 | 12 | 12 | 12 |\n",
       "| 43 | GP | male   | 15 | U | GT3 | T | 4 | 4 | services | teacher  | ⋯ | 4 | 4 | 3 | 1 | 1 | 5 |  2 | 19 | 18 | 18 |\n",
       "| 44 | GP | male   | 15 | U | GT3 | T | 2 | 2 | services | services | ⋯ | 5 | 5 | 1 | 1 | 1 | 1 |  0 |  8 |  8 | 11 |\n",
       "| 45 | GP | female | 16 | U | LE3 | T | 2 | 2 | other    | at_home  | ⋯ | 4 | 4 | 3 | 2 | 2 | 5 | 14 | 10 | 10 |  9 |\n",
       "| 46 | GP | female | 15 | U | LE3 | A | 4 | 3 | other    | other    | ⋯ | 5 | 3 | 2 | 1 | 1 | 5 |  8 |  8 |  8 |  6 |\n",
       "| 47 | GP | female | 16 | U | LE3 | A | 3 | 3 | other    | services | ⋯ | 2 | 4 | 5 | 1 | 4 | 3 | 12 | 11 | 12 | 11 |\n",
       "| 48 | GP | male   | 16 | U | GT3 | T | 4 | 3 | health   | services | ⋯ | 4 | 3 | 2 | 1 | 1 | 2 |  4 | 19 | 19 | 20 |\n",
       "| 49 | GP | male   | 15 | U | GT3 | T | 4 | 2 | teacher  | other    | ⋯ | 4 | 4 | 3 | 2 | 2 | 5 |  2 | 15 | 15 | 14 |\n",
       "| 50 | GP | female | 15 | U | GT3 | T | 4 | 4 | services | teacher  | ⋯ | 4 | 5 | 4 | 1 | 1 | 3 |  2 |  7 |  7 |  7 |\n",
       "| 51 | GP | female | 16 | U | LE3 | T | 2 | 2 | services | services | ⋯ | 4 | 4 | 3 | 2 | 3 | 4 |  2 | 12 | 13 | 13 |\n",
       "| 52 | GP | female | 15 | U | LE3 | T | 4 | 2 | health   | other    | ⋯ | 4 | 4 | 3 | 1 | 1 | 5 |  2 | 11 | 13 | 13 |\n",
       "| ⋮ | ⋮ | ⋮ | ⋮ | ⋮ | ⋮ | ⋮ | ⋮ | ⋮ | ⋮ | ⋮ | ⋱ | ⋮ | ⋮ | ⋮ | ⋮ | ⋮ | ⋮ | ⋮ | ⋮ | ⋮ | ⋮ |\n",
       "| 366 | MS | male   | 18 | R | GT3 | T | 1 | 3 | at_home  | other    | ⋯ | 3 | 4 | 4 | 2 | 4 | 3 |  4 | 10 | 10 | 10 |\n",
       "| 367 | MS | male   | 18 | U | LE3 | T | 4 | 4 | teacher  | services | ⋯ | 4 | 3 | 2 | 2 | 2 | 5 |  0 | 13 | 13 | 13 |\n",
       "| 368 | MS | female | 17 | R | GT3 | T | 1 | 1 | other    | services | ⋯ | 5 | 3 | 1 | 1 | 2 | 1 |  0 |  7 |  6 |  0 |\n",
       "| 369 | MS | female | 18 | U | GT3 | T | 2 | 3 | at_home  | services | ⋯ | 5 | 3 | 3 | 1 | 2 | 4 |  0 | 11 | 10 | 10 |\n",
       "| 370 | MS | female | 18 | R | GT3 | T | 4 | 4 | other    | teacher  | ⋯ | 3 | 3 | 2 | 4 | 2 | 5 | 10 | 14 | 12 | 11 |\n",
       "| 371 | MS | female | 19 | U | LE3 | T | 3 | 2 | services | services | ⋯ | 3 | 3 | 2 | 1 | 1 | 3 |  4 |  7 |  7 |  9 |\n",
       "| 372 | MS | male   | 18 | R | LE3 | T | 1 | 2 | at_home  | services | ⋯ | 4 | 4 | 3 | 2 | 3 | 3 |  3 | 14 | 12 | 12 |\n",
       "| 373 | MS | female | 17 | U | GT3 | T | 2 | 2 | other    | at_home  | ⋯ | 3 | 5 | 3 | 1 | 1 | 3 |  8 | 13 | 11 | 11 |\n",
       "| 374 | MS | female | 17 | R | GT3 | T | 1 | 2 | other    | other    | ⋯ | 3 | 6 | 5 | 1 | 3 | 1 | 14 |  6 |  5 |  5 |\n",
       "| 375 | MS | female | 18 | R | LE3 | T | 4 | 4 | other    | other    | ⋯ | 5 | 5 | 4 | 1 | 1 | 1 |  0 | 19 | 18 | 19 |\n",
       "| 376 | MS | female | 18 | R | GT3 | T | 1 | 1 | other    | other    | ⋯ | 4 | 4 | 2 | 1 | 2 | 4 |  2 |  8 |  8 | 10 |\n",
       "| 377 | MS | female | 20 | U | GT3 | T | 4 | 2 | health   | other    | ⋯ | 5 | 5 | 3 | 1 | 1 | 3 |  4 | 15 | 14 | 15 |\n",
       "| 378 | MS | female | 18 | R | LE3 | T | 4 | 4 | teacher  | services | ⋯ | 5 | 5 | 3 | 3 | 4 | 2 |  4 |  8 |  9 | 10 |\n",
       "| 379 | MS | female | 18 | U | GT3 | T | 3 | 3 | other    | other    | ⋯ | 4 | 2 | 3 | 1 | 2 | 1 |  0 | 15 | 15 | 15 |\n",
       "| 380 | MS | female | 17 | R | GT3 | T | 3 | 1 | at_home  | other    | ⋯ | 4 | 6 | 4 | 2 | 3 | 1 | 17 | 10 | 10 | 10 |\n",
       "| 381 | MS | male   | 18 | U | GT3 | T | 4 | 4 | teacher  | teacher  | ⋯ | 3 | 3 | 4 | 1 | 4 | 2 |  4 | 15 | 14 | 14 |\n",
       "| 382 | MS | male   | 18 | R | GT3 | T | 2 | 1 | other    | other    | ⋯ | 4 | 5 | 3 | 1 | 3 | 5 |  5 |  7 |  6 |  7 |\n",
       "| 383 | MS | male   | 17 | U | GT3 | T | 2 | 3 | other    | services | ⋯ | 4 | 5 | 3 | 1 | 1 | 3 |  2 | 11 | 11 | 10 |\n",
       "| 384 | MS | male   | 19 | R | GT3 | T | 1 | 1 | other    | services | ⋯ | 4 | 4 | 2 | 1 | 3 | 5 |  0 |  6 |  5 |  0 |\n",
       "| 385 | MS | male   | 18 | R | GT3 | T | 4 | 2 | other    | other    | ⋯ | 5 | 5 | 3 | 4 | 3 | 3 | 14 |  6 |  5 |  5 |\n",
       "| 386 | MS | female | 18 | R | GT3 | T | 2 | 2 | at_home  | other    | ⋯ | 5 | 4 | 3 | 1 | 3 | 4 |  2 | 10 |  9 | 10 |\n",
       "| 387 | MS | female | 18 | R | GT3 | T | 4 | 4 | teacher  | at_home  | ⋯ | 4 | 5 | 3 | 2 | 2 | 5 |  7 |  6 |  5 |  6 |\n",
       "| 388 | MS | female | 19 | R | GT3 | T | 2 | 3 | services | other    | ⋯ | 5 | 5 | 2 | 1 | 2 | 5 |  0 |  7 |  5 |  0 |\n",
       "| 389 | MS | female | 18 | U | LE3 | T | 3 | 1 | teacher  | services | ⋯ | 4 | 4 | 4 | 1 | 1 | 1 |  0 |  7 |  9 |  8 |\n",
       "| 390 | MS | female | 18 | U | GT3 | T | 1 | 1 | other    | other    | ⋯ | 1 | 2 | 1 | 1 | 1 | 5 |  0 |  6 |  5 |  0 |\n",
       "| 391 | MS | male   | 20 | U | LE3 | A | 2 | 2 | services | services | ⋯ | 5 | 6 | 4 | 4 | 5 | 4 | 11 |  9 |  9 |  9 |\n",
       "| 392 | MS | male   | 17 | U | LE3 | T | 3 | 1 | services | services | ⋯ | 2 | 5 | 5 | 3 | 4 | 2 |  3 | 14 | 16 | 16 |\n",
       "| 393 | MS | male   | 21 | R | GT3 | T | 1 | 1 | other    | other    | ⋯ | 5 | 6 | 3 | 3 | 3 | 3 |  3 | 10 |  8 |  7 |\n",
       "| 394 | MS | male   | 18 | R | LE3 | T | 3 | 2 | services | other    | ⋯ | 4 | 5 | 1 | 3 | 4 | 5 |  0 | 11 | 12 | 10 |\n",
       "| 395 | MS | male   | 19 | U | LE3 | T | 1 | 1 | other    | at_home  | ⋯ | 3 | 3 | 3 | 3 | 3 | 5 |  5 |  8 |  9 |  9 |\n",
       "\n"
      ],
      "text/plain": [
       "    school sex    age address famsize Pstatus Medu Fedu Mjob     Fjob     ⋯\n",
       "1   GP     female 18  U       GT3     A       4    4    at_home  teacher  ⋯\n",
       "2   GP     female 17  U       GT3     T       1    1    at_home  other    ⋯\n",
       "3   GP     female 15  U       LE3     T       1    1    at_home  other    ⋯\n",
       "4   GP     female 15  U       GT3     T       4    2    health   services ⋯\n",
       "5   GP     female 16  U       GT3     T       3    3    other    other    ⋯\n",
       "6   GP     male   16  U       LE3     T       4    3    services other    ⋯\n",
       "7   GP     male   16  U       LE3     T       2    2    other    other    ⋯\n",
       "30  GP     male   16  U       GT3     T       4    4    teacher  teacher  ⋯\n",
       "31  GP     male   15  U       GT3     T       4    4    health   services ⋯\n",
       "32  GP     male   15  U       GT3     T       4    4    services services ⋯\n",
       "33  GP     male   15  R       GT3     T       4    3    teacher  at_home  ⋯\n",
       "34  GP     male   15  U       LE3     T       3    3    other    other    ⋯\n",
       "35  GP     male   16  U       GT3     T       3    2    other    other    ⋯\n",
       "36  GP     female 15  U       GT3     T       2    3    other    other    ⋯\n",
       "37  GP     male   15  U       LE3     T       4    3    teacher  services ⋯\n",
       "38  GP     male   16  R       GT3     A       4    4    other    teacher  ⋯\n",
       "39  GP     female 15  R       GT3     T       3    4    services health   ⋯\n",
       "40  GP     female 15  R       GT3     T       2    2    at_home  other    ⋯\n",
       "41  GP     female 16  U       LE3     T       2    2    other    other    ⋯\n",
       "42  GP     male   15  U       LE3     T       4    4    teacher  other    ⋯\n",
       "43  GP     male   15  U       GT3     T       4    4    services teacher  ⋯\n",
       "44  GP     male   15  U       GT3     T       2    2    services services ⋯\n",
       "45  GP     female 16  U       LE3     T       2    2    other    at_home  ⋯\n",
       "46  GP     female 15  U       LE3     A       4    3    other    other    ⋯\n",
       "47  GP     female 16  U       LE3     A       3    3    other    services ⋯\n",
       "48  GP     male   16  U       GT3     T       4    3    health   services ⋯\n",
       "49  GP     male   15  U       GT3     T       4    2    teacher  other    ⋯\n",
       "50  GP     female 15  U       GT3     T       4    4    services teacher  ⋯\n",
       "51  GP     female 16  U       LE3     T       2    2    services services ⋯\n",
       "52  GP     female 15  U       LE3     T       4    2    health   other    ⋯\n",
       "⋮   ⋮      ⋮      ⋮   ⋮       ⋮       ⋮       ⋮    ⋮    ⋮        ⋮        ⋱\n",
       "366 MS     male   18  R       GT3     T       1    3    at_home  other    ⋯\n",
       "367 MS     male   18  U       LE3     T       4    4    teacher  services ⋯\n",
       "368 MS     female 17  R       GT3     T       1    1    other    services ⋯\n",
       "369 MS     female 18  U       GT3     T       2    3    at_home  services ⋯\n",
       "370 MS     female 18  R       GT3     T       4    4    other    teacher  ⋯\n",
       "371 MS     female 19  U       LE3     T       3    2    services services ⋯\n",
       "372 MS     male   18  R       LE3     T       1    2    at_home  services ⋯\n",
       "373 MS     female 17  U       GT3     T       2    2    other    at_home  ⋯\n",
       "374 MS     female 17  R       GT3     T       1    2    other    other    ⋯\n",
       "375 MS     female 18  R       LE3     T       4    4    other    other    ⋯\n",
       "376 MS     female 18  R       GT3     T       1    1    other    other    ⋯\n",
       "377 MS     female 20  U       GT3     T       4    2    health   other    ⋯\n",
       "378 MS     female 18  R       LE3     T       4    4    teacher  services ⋯\n",
       "379 MS     female 18  U       GT3     T       3    3    other    other    ⋯\n",
       "380 MS     female 17  R       GT3     T       3    1    at_home  other    ⋯\n",
       "381 MS     male   18  U       GT3     T       4    4    teacher  teacher  ⋯\n",
       "382 MS     male   18  R       GT3     T       2    1    other    other    ⋯\n",
       "383 MS     male   17  U       GT3     T       2    3    other    services ⋯\n",
       "384 MS     male   19  R       GT3     T       1    1    other    services ⋯\n",
       "385 MS     male   18  R       GT3     T       4    2    other    other    ⋯\n",
       "386 MS     female 18  R       GT3     T       2    2    at_home  other    ⋯\n",
       "387 MS     female 18  R       GT3     T       4    4    teacher  at_home  ⋯\n",
       "388 MS     female 19  R       GT3     T       2    3    services other    ⋯\n",
       "389 MS     female 18  U       LE3     T       3    1    teacher  services ⋯\n",
       "390 MS     female 18  U       GT3     T       1    1    other    other    ⋯\n",
       "391 MS     male   20  U       LE3     A       2    2    services services ⋯\n",
       "392 MS     male   17  U       LE3     T       3    1    services services ⋯\n",
       "393 MS     male   21  R       GT3     T       1    1    other    other    ⋯\n",
       "394 MS     male   18  R       LE3     T       3    2    services other    ⋯\n",
       "395 MS     male   19  U       LE3     T       1    1    other    at_home  ⋯\n",
       "    famrel freetime goout Dalc Walc health absences G1 G2 G3\n",
       "1   4      4        4     1    1    3       5        5  6  6\n",
       "2   5      4        3     1    1    3       5        5  5  6\n",
       "3   4      4        2     2    3    3      10        7  8 10\n",
       "4   3      3        2     1    1    5       2       15 14 15\n",
       "5   4      4        2     1    2    5       4        6 10 10\n",
       "6   5      5        2     1    2    5      10       15 15 15\n",
       "7   4      5        4     1    1    3       0       12 12 11\n",
       "30  4      5        5     5    5    5      16       10 12 11\n",
       "31  5      5        2     3    4    5       0        9 11 12\n",
       "32  4      4        1     1    1    5       0       17 16 17\n",
       "33  4      6        2     1    1    5       0       17 16 16\n",
       "34  5      4        2     1    1    2       0        8 10 12\n",
       "35  5      5        3     1    1    5       0       12 14 15\n",
       "36  3      6        1     1    1    5       0        8  7  6\n",
       "37  5      5        3     1    1    4       2       15 16 18\n",
       "38  2      5        3     1    1    5       7       15 16 15\n",
       "39  4      4        2     1    1    5       2       12 12 11\n",
       "40  4      4        1     1    1    2       8       14 13 13\n",
       "41  3      4        3     1    2    3      20        7 10 11\n",
       "42  5      5        3     2    4    5       8       12 12 12\n",
       "43  4      4        3     1    1    5       2       19 18 18\n",
       "44  5      5        1     1    1    1       0        8  8 11\n",
       "45  4      4        3     2    2    5      14       10 10  9\n",
       "46  5      3        2     1    1    5       8        8  8  6\n",
       "47  2      4        5     1    4    3      12       11 12 11\n",
       "48  4      3        2     1    1    2       4       19 19 20\n",
       "49  4      4        3     2    2    5       2       15 15 14\n",
       "50  4      5        4     1    1    3       2        7  7  7\n",
       "51  4      4        3     2    3    4       2       12 13 13\n",
       "52  4      4        3     1    1    5       2       11 13 13\n",
       "⋮   ⋮      ⋮        ⋮     ⋮    ⋮    ⋮      ⋮        ⋮  ⋮  ⋮ \n",
       "366 3      4        4     2    4    3       4       10 10 10\n",
       "367 4      3        2     2    2    5       0       13 13 13\n",
       "368 5      3        1     1    2    1       0        7  6  0\n",
       "369 5      3        3     1    2    4       0       11 10 10\n",
       "370 3      3        2     4    2    5      10       14 12 11\n",
       "371 3      3        2     1    1    3       4        7  7  9\n",
       "372 4      4        3     2    3    3       3       14 12 12\n",
       "373 3      5        3     1    1    3       8       13 11 11\n",
       "374 3      6        5     1    3    1      14        6  5  5\n",
       "375 5      5        4     1    1    1       0       19 18 19\n",
       "376 4      4        2     1    2    4       2        8  8 10\n",
       "377 5      5        3     1    1    3       4       15 14 15\n",
       "378 5      5        3     3    4    2       4        8  9 10\n",
       "379 4      2        3     1    2    1       0       15 15 15\n",
       "380 4      6        4     2    3    1      17       10 10 10\n",
       "381 3      3        4     1    4    2       4       15 14 14\n",
       "382 4      5        3     1    3    5       5        7  6  7\n",
       "383 4      5        3     1    1    3       2       11 11 10\n",
       "384 4      4        2     1    3    5       0        6  5  0\n",
       "385 5      5        3     4    3    3      14        6  5  5\n",
       "386 5      4        3     1    3    4       2       10  9 10\n",
       "387 4      5        3     2    2    5       7        6  5  6\n",
       "388 5      5        2     1    2    5       0        7  5  0\n",
       "389 4      4        4     1    1    1       0        7  9  8\n",
       "390 1      2        1     1    1    5       0        6  5  0\n",
       "391 5      6        4     4    5    4      11        9  9  9\n",
       "392 2      5        5     3    4    2       3       14 16 16\n",
       "393 5      6        3     3    3    3       3       10  8  7\n",
       "394 4      5        1     3    4    5       0       11 12 10\n",
       "395 3      3        3     3    3    5       5        8  9  9"
      ]
     },
     "metadata": {},
     "output_type": "display_data"
    }
   ],
   "source": [
    "data_clean"
   ]
  },
  {
   "cell_type": "code",
   "execution_count": 29,
   "metadata": {
    "vscode": {
     "languageId": "r"
    }
   },
   "outputs": [
    {
     "data": {
      "image/png": "[encoded data removed]",
      "text/plain": [
       "Plot with title \"Correlation Heatmap of Numerical Columns\""
      ]
     },
     "metadata": {
      "image/png": {
       "height": 420,
       "width": 420
      }
     },
     "output_type": "display_data"
    }
   ],
   "source": [
    "# TODO: Draw heatmap for numarical coulmns to show the correlation\n",
    "\n",
    "correlation_matrix <- cor(data_clean[, sapply(data_clean, is.numeric)], use = \"complete.obs\")\n",
    "\n",
    "# Plot the heatmap\n",
    "heatmap(correlation_matrix,\n",
    "        Rowv = NA, \n",
    "        Colv = NA,\n",
    "        main = \"Correlation Heatmap of Numerical Columns\",\n",
    "        xlab = \"Columns\",\n",
    "        ylab = \"Raws\")"
   ]
  },
  {
   "cell_type": "markdown",
   "metadata": {},
   "source": [
    "Notes:\n",
    "- G1, G2, and G3 are highly correlated\n",
    "- Dalc and Walc are highly correlated\n",
    "- Medu and Fedu are highly correlated"
   ]
  },
  {
   "cell_type": "markdown",
   "metadata": {},
   "source": [
    "## 4. Conclusion: Important Variables"
   ]
  },
  {
   "cell_type": "markdown",
   "metadata": {},
   "source": [
    "We now have a better idea of what our data looks like and which variables are important to take into account when predicting the house price."
   ]
  },
  {
   "cell_type": "markdown",
   "metadata": {},
   "source": [
    "### Select features"
   ]
  },
  {
   "cell_type": "code",
   "execution_count": 30,
   "metadata": {
    "vscode": {
     "languageId": "r"
    }
   },
   "outputs": [
    {
     "data": {
      "text/html": [
       "<span style=white-space:pre-wrap>'G3 max is:  20'</span>"
      ],
      "text/latex": [
       "'G3 max is:  20'"
      ],
      "text/markdown": [
       "<span style=white-space:pre-wrap>'G3 max is:  20'</span>"
      ],
      "text/plain": [
       "[1] \"G3 max is:  20\""
      ]
     },
     "metadata": {},
     "output_type": "display_data"
    },
    {
     "data": {
      "text/html": [
       "<span style=white-space:pre-wrap>'G3 min is:  0'</span>"
      ],
      "text/latex": [
       "'G3 min is:  0'"
      ],
      "text/markdown": [
       "<span style=white-space:pre-wrap>'G3 min is:  0'</span>"
      ],
      "text/plain": [
       "[1] \"G3 min is:  0\""
      ]
     },
     "metadata": {},
     "output_type": "display_data"
    },
    {
     "data": {
      "text/html": [
       "<span style=white-space:pre-wrap>'G3 mean is:  10.3163538873995'</span>"
      ],
      "text/latex": [
       "'G3 mean is:  10.3163538873995'"
      ],
      "text/markdown": [
       "<span style=white-space:pre-wrap>'G3 mean is:  10.3163538873995'</span>"
      ],
      "text/plain": [
       "[1] \"G3 mean is:  10.3163538873995\""
      ]
     },
     "metadata": {},
     "output_type": "display_data"
    }
   ],
   "source": [
    "# TODO: Calculate max min and mean for G3 column\n",
    "\n",
    "# max\n",
    "max_G3 <- max(data_clean$G3)\n",
    "paste(\"G3 max is: \", max_G3)\n",
    "\n",
    "# min\n",
    "min_G3 <- min(data_clean$G3)\n",
    "paste(\"G3 min is: \", min_G3)\n",
    "\n",
    "# mean\n",
    "mean_G3 <- mean(data_clean$G3)\n",
    "paste(\"G3 mean is: \", mean_G3)"
   ]
  },
  {
   "cell_type": "code",
   "execution_count": 31,
   "metadata": {
    "vscode": {
     "languageId": "r"
    }
   },
   "outputs": [
    {
     "data": {
      "text/html": [
       "<style>\n",
       ".list-inline {list-style: none; margin:0; padding: 0}\n",
       ".list-inline>li {display: inline-block}\n",
       ".list-inline>li:not(:last-child)::after {content: \"\\00b7\"; padding: 0 .5ex}\n",
       "</style>\n",
       "<ol class=list-inline><li>'school'</li><li>'sex'</li><li>'age'</li><li>'address'</li><li>'famsize'</li><li>'Pstatus'</li><li>'Medu'</li><li>'Fedu'</li><li>'Mjob'</li><li>'Fjob'</li><li>'reason'</li><li>'guardian'</li><li>'traveltime'</li><li>'studytime'</li><li>'failures'</li><li>'schoolsup'</li><li>'famsup'</li><li>'paid'</li><li>'activities'</li><li>'nursery'</li><li>'higher'</li><li>'internet'</li><li>'romantic'</li><li>'famrel'</li><li>'freetime'</li><li>'goout'</li><li>'Dalc'</li><li>'Walc'</li><li>'health'</li><li>'absences'</li><li>'G1'</li><li>'G2'</li><li>'G3'</li></ol>\n"
      ],
      "text/latex": [
       "\\begin{enumerate*}\n",
       "\\item 'school'\n",
       "\\item 'sex'\n",
       "\\item 'age'\n",
       "\\item 'address'\n",
       "\\item 'famsize'\n",
       "\\item 'Pstatus'\n",
       "\\item 'Medu'\n",
       "\\item 'Fedu'\n",
       "\\item 'Mjob'\n",
       "\\item 'Fjob'\n",
       "\\item 'reason'\n",
       "\\item 'guardian'\n",
       "\\item 'traveltime'\n",
       "\\item 'studytime'\n",
       "\\item 'failures'\n",
       "\\item 'schoolsup'\n",
       "\\item 'famsup'\n",
       "\\item 'paid'\n",
       "\\item 'activities'\n",
       "\\item 'nursery'\n",
       "\\item 'higher'\n",
       "\\item 'internet'\n",
       "\\item 'romantic'\n",
       "\\item 'famrel'\n",
       "\\item 'freetime'\n",
       "\\item 'goout'\n",
       "\\item 'Dalc'\n",
       "\\item 'Walc'\n",
       "\\item 'health'\n",
       "\\item 'absences'\n",
       "\\item 'G1'\n",
       "\\item 'G2'\n",
       "\\item 'G3'\n",
       "\\end{enumerate*}\n"
      ],
      "text/markdown": [
       "1. 'school'\n",
       "2. 'sex'\n",
       "3. 'age'\n",
       "4. 'address'\n",
       "5. 'famsize'\n",
       "6. 'Pstatus'\n",
       "7. 'Medu'\n",
       "8. 'Fedu'\n",
       "9. 'Mjob'\n",
       "10. 'Fjob'\n",
       "11. 'reason'\n",
       "12. 'guardian'\n",
       "13. 'traveltime'\n",
       "14. 'studytime'\n",
       "15. 'failures'\n",
       "16. 'schoolsup'\n",
       "17. 'famsup'\n",
       "18. 'paid'\n",
       "19. 'activities'\n",
       "20. 'nursery'\n",
       "21. 'higher'\n",
       "22. 'internet'\n",
       "23. 'romantic'\n",
       "24. 'famrel'\n",
       "25. 'freetime'\n",
       "26. 'goout'\n",
       "27. 'Dalc'\n",
       "28. 'Walc'\n",
       "29. 'health'\n",
       "30. 'absences'\n",
       "31. 'G1'\n",
       "32. 'G2'\n",
       "33. 'G3'\n",
       "\n",
       "\n"
      ],
      "text/plain": [
       " [1] \"school\"     \"sex\"        \"age\"        \"address\"    \"famsize\"   \n",
       " [6] \"Pstatus\"    \"Medu\"       \"Fedu\"       \"Mjob\"       \"Fjob\"      \n",
       "[11] \"reason\"     \"guardian\"   \"traveltime\" \"studytime\"  \"failures\"  \n",
       "[16] \"schoolsup\"  \"famsup\"     \"paid\"       \"activities\" \"nursery\"   \n",
       "[21] \"higher\"     \"internet\"   \"romantic\"   \"famrel\"     \"freetime\"  \n",
       "[26] \"goout\"      \"Dalc\"       \"Walc\"       \"health\"     \"absences\"  \n",
       "[31] \"G1\"         \"G2\"         \"G3\"        "
      ]
     },
     "metadata": {},
     "output_type": "display_data"
    }
   ],
   "source": [
    "# TODO: Print columns names\n",
    "\n",
    "colnames(data_clean)"
   ]
  },
  {
   "cell_type": "code",
   "execution_count": 32,
   "metadata": {
    "vscode": {
     "languageId": "r"
    }
   },
   "outputs": [
    {
     "data": {
      "text/html": [
       "<table class=\"dataframe\">\n",
       "<caption>A data.frame: 373 × 8</caption>\n",
       "<thead>\n",
       "\t<tr><th></th><th scope=col>G1</th><th scope=col>G2</th><th scope=col>Fedu</th><th scope=col>Medu</th><th scope=col>studytime</th><th scope=col>famrel</th><th scope=col>freetime</th><th scope=col>absences</th></tr>\n",
       "\t<tr><th></th><th scope=col>&lt;int&gt;</th><th scope=col>&lt;int&gt;</th><th scope=col>&lt;int&gt;</th><th scope=col>&lt;int&gt;</th><th scope=col>&lt;int&gt;</th><th scope=col>&lt;int&gt;</th><th scope=col>&lt;int&gt;</th><th scope=col>&lt;dbl&gt;</th></tr>\n",
       "</thead>\n",
       "<tbody>\n",
       "\t<tr><th scope=row>1</th><td> 5</td><td> 6</td><td>4</td><td>4</td><td>2</td><td>4</td><td>4</td><td> 5</td></tr>\n",
       "\t<tr><th scope=row>2</th><td> 5</td><td> 5</td><td>1</td><td>1</td><td>2</td><td>5</td><td>4</td><td> 5</td></tr>\n",
       "\t<tr><th scope=row>3</th><td> 7</td><td> 8</td><td>1</td><td>1</td><td>2</td><td>4</td><td>4</td><td>10</td></tr>\n",
       "\t<tr><th scope=row>4</th><td>15</td><td>14</td><td>2</td><td>4</td><td>3</td><td>3</td><td>3</td><td> 2</td></tr>\n",
       "\t<tr><th scope=row>5</th><td> 6</td><td>10</td><td>3</td><td>3</td><td>2</td><td>4</td><td>4</td><td> 4</td></tr>\n",
       "\t<tr><th scope=row>6</th><td>15</td><td>15</td><td>3</td><td>4</td><td>2</td><td>5</td><td>5</td><td>10</td></tr>\n",
       "\t<tr><th scope=row>7</th><td>12</td><td>12</td><td>2</td><td>2</td><td>2</td><td>4</td><td>5</td><td> 0</td></tr>\n",
       "\t<tr><th scope=row>30</th><td>10</td><td>12</td><td>4</td><td>4</td><td>2</td><td>4</td><td>5</td><td>16</td></tr>\n",
       "\t<tr><th scope=row>31</th><td> 9</td><td>11</td><td>4</td><td>4</td><td>2</td><td>5</td><td>5</td><td> 0</td></tr>\n",
       "\t<tr><th scope=row>32</th><td>17</td><td>16</td><td>4</td><td>4</td><td>2</td><td>4</td><td>4</td><td> 0</td></tr>\n",
       "\t<tr><th scope=row>33</th><td>17</td><td>16</td><td>3</td><td>4</td><td>2</td><td>4</td><td>6</td><td> 0</td></tr>\n",
       "\t<tr><th scope=row>34</th><td> 8</td><td>10</td><td>3</td><td>3</td><td>2</td><td>5</td><td>4</td><td> 0</td></tr>\n",
       "\t<tr><th scope=row>35</th><td>12</td><td>14</td><td>2</td><td>3</td><td>1</td><td>5</td><td>5</td><td> 0</td></tr>\n",
       "\t<tr><th scope=row>36</th><td> 8</td><td> 7</td><td>3</td><td>2</td><td>1</td><td>3</td><td>6</td><td> 0</td></tr>\n",
       "\t<tr><th scope=row>37</th><td>15</td><td>16</td><td>3</td><td>4</td><td>3</td><td>5</td><td>5</td><td> 2</td></tr>\n",
       "\t<tr><th scope=row>38</th><td>15</td><td>16</td><td>4</td><td>4</td><td>3</td><td>2</td><td>5</td><td> 7</td></tr>\n",
       "\t<tr><th scope=row>39</th><td>12</td><td>12</td><td>4</td><td>3</td><td>3</td><td>4</td><td>4</td><td> 2</td></tr>\n",
       "\t<tr><th scope=row>40</th><td>14</td><td>13</td><td>2</td><td>2</td><td>1</td><td>4</td><td>4</td><td> 8</td></tr>\n",
       "\t<tr><th scope=row>41</th><td> 7</td><td>10</td><td>2</td><td>2</td><td>2</td><td>3</td><td>4</td><td>20</td></tr>\n",
       "\t<tr><th scope=row>42</th><td>12</td><td>12</td><td>4</td><td>4</td><td>1</td><td>5</td><td>5</td><td> 8</td></tr>\n",
       "\t<tr><th scope=row>43</th><td>19</td><td>18</td><td>4</td><td>4</td><td>2</td><td>4</td><td>4</td><td> 2</td></tr>\n",
       "\t<tr><th scope=row>44</th><td> 8</td><td> 8</td><td>2</td><td>2</td><td>1</td><td>5</td><td>5</td><td> 0</td></tr>\n",
       "\t<tr><th scope=row>45</th><td>10</td><td>10</td><td>2</td><td>2</td><td>2</td><td>4</td><td>4</td><td>14</td></tr>\n",
       "\t<tr><th scope=row>46</th><td> 8</td><td> 8</td><td>3</td><td>4</td><td>2</td><td>5</td><td>3</td><td> 8</td></tr>\n",
       "\t<tr><th scope=row>47</th><td>11</td><td>12</td><td>3</td><td>3</td><td>2</td><td>2</td><td>4</td><td>12</td></tr>\n",
       "\t<tr><th scope=row>48</th><td>19</td><td>19</td><td>3</td><td>4</td><td>4</td><td>4</td><td>3</td><td> 4</td></tr>\n",
       "\t<tr><th scope=row>49</th><td>15</td><td>15</td><td>2</td><td>4</td><td>2</td><td>4</td><td>4</td><td> 2</td></tr>\n",
       "\t<tr><th scope=row>50</th><td> 7</td><td> 7</td><td>4</td><td>4</td><td>2</td><td>4</td><td>5</td><td> 2</td></tr>\n",
       "\t<tr><th scope=row>51</th><td>12</td><td>13</td><td>2</td><td>2</td><td>2</td><td>4</td><td>4</td><td> 2</td></tr>\n",
       "\t<tr><th scope=row>52</th><td>11</td><td>13</td><td>2</td><td>4</td><td>2</td><td>4</td><td>4</td><td> 2</td></tr>\n",
       "\t<tr><th scope=row>⋮</th><td>⋮</td><td>⋮</td><td>⋮</td><td>⋮</td><td>⋮</td><td>⋮</td><td>⋮</td><td>⋮</td></tr>\n",
       "\t<tr><th scope=row>366</th><td>10</td><td>10</td><td>3</td><td>1</td><td>2</td><td>3</td><td>4</td><td> 4</td></tr>\n",
       "\t<tr><th scope=row>367</th><td>13</td><td>13</td><td>4</td><td>4</td><td>3</td><td>4</td><td>3</td><td> 0</td></tr>\n",
       "\t<tr><th scope=row>368</th><td> 7</td><td> 6</td><td>1</td><td>1</td><td>1</td><td>5</td><td>3</td><td> 0</td></tr>\n",
       "\t<tr><th scope=row>369</th><td>11</td><td>10</td><td>3</td><td>2</td><td>1</td><td>5</td><td>3</td><td> 0</td></tr>\n",
       "\t<tr><th scope=row>370</th><td>14</td><td>12</td><td>4</td><td>4</td><td>2</td><td>3</td><td>3</td><td>10</td></tr>\n",
       "\t<tr><th scope=row>371</th><td> 7</td><td> 7</td><td>2</td><td>3</td><td>2</td><td>3</td><td>3</td><td> 4</td></tr>\n",
       "\t<tr><th scope=row>372</th><td>14</td><td>12</td><td>2</td><td>1</td><td>1</td><td>4</td><td>4</td><td> 3</td></tr>\n",
       "\t<tr><th scope=row>373</th><td>13</td><td>11</td><td>2</td><td>2</td><td>3</td><td>3</td><td>5</td><td> 8</td></tr>\n",
       "\t<tr><th scope=row>374</th><td> 6</td><td> 5</td><td>2</td><td>1</td><td>1</td><td>3</td><td>6</td><td>14</td></tr>\n",
       "\t<tr><th scope=row>375</th><td>19</td><td>18</td><td>4</td><td>4</td><td>3</td><td>5</td><td>5</td><td> 0</td></tr>\n",
       "\t<tr><th scope=row>376</th><td> 8</td><td> 8</td><td>1</td><td>1</td><td>3</td><td>4</td><td>4</td><td> 2</td></tr>\n",
       "\t<tr><th scope=row>377</th><td>15</td><td>14</td><td>2</td><td>4</td><td>3</td><td>5</td><td>5</td><td> 4</td></tr>\n",
       "\t<tr><th scope=row>378</th><td> 8</td><td> 9</td><td>4</td><td>4</td><td>2</td><td>5</td><td>5</td><td> 4</td></tr>\n",
       "\t<tr><th scope=row>379</th><td>15</td><td>15</td><td>3</td><td>3</td><td>2</td><td>4</td><td>2</td><td> 0</td></tr>\n",
       "\t<tr><th scope=row>380</th><td>10</td><td>10</td><td>1</td><td>3</td><td>2</td><td>4</td><td>6</td><td>17</td></tr>\n",
       "\t<tr><th scope=row>381</th><td>15</td><td>14</td><td>4</td><td>4</td><td>2</td><td>3</td><td>3</td><td> 4</td></tr>\n",
       "\t<tr><th scope=row>382</th><td> 7</td><td> 6</td><td>1</td><td>2</td><td>1</td><td>4</td><td>5</td><td> 5</td></tr>\n",
       "\t<tr><th scope=row>383</th><td>11</td><td>11</td><td>3</td><td>2</td><td>2</td><td>4</td><td>5</td><td> 2</td></tr>\n",
       "\t<tr><th scope=row>384</th><td> 6</td><td> 5</td><td>1</td><td>1</td><td>1</td><td>4</td><td>4</td><td> 0</td></tr>\n",
       "\t<tr><th scope=row>385</th><td> 6</td><td> 5</td><td>2</td><td>4</td><td>1</td><td>5</td><td>5</td><td>14</td></tr>\n",
       "\t<tr><th scope=row>386</th><td>10</td><td> 9</td><td>2</td><td>2</td><td>3</td><td>5</td><td>4</td><td> 2</td></tr>\n",
       "\t<tr><th scope=row>387</th><td> 6</td><td> 5</td><td>4</td><td>4</td><td>1</td><td>4</td><td>5</td><td> 7</td></tr>\n",
       "\t<tr><th scope=row>388</th><td> 7</td><td> 5</td><td>3</td><td>2</td><td>3</td><td>5</td><td>5</td><td> 0</td></tr>\n",
       "\t<tr><th scope=row>389</th><td> 7</td><td> 9</td><td>1</td><td>3</td><td>2</td><td>4</td><td>4</td><td> 0</td></tr>\n",
       "\t<tr><th scope=row>390</th><td> 6</td><td> 5</td><td>1</td><td>1</td><td>2</td><td>1</td><td>2</td><td> 0</td></tr>\n",
       "\t<tr><th scope=row>391</th><td> 9</td><td> 9</td><td>2</td><td>2</td><td>2</td><td>5</td><td>6</td><td>11</td></tr>\n",
       "\t<tr><th scope=row>392</th><td>14</td><td>16</td><td>1</td><td>3</td><td>1</td><td>2</td><td>5</td><td> 3</td></tr>\n",
       "\t<tr><th scope=row>393</th><td>10</td><td> 8</td><td>1</td><td>1</td><td>1</td><td>5</td><td>6</td><td> 3</td></tr>\n",
       "\t<tr><th scope=row>394</th><td>11</td><td>12</td><td>2</td><td>3</td><td>1</td><td>4</td><td>5</td><td> 0</td></tr>\n",
       "\t<tr><th scope=row>395</th><td> 8</td><td> 9</td><td>1</td><td>1</td><td>1</td><td>3</td><td>3</td><td> 5</td></tr>\n",
       "</tbody>\n",
       "</table>\n"
      ],
      "text/latex": [
       "A data.frame: 373 × 8\n",
       "\\begin{tabular}{r|llllllll}\n",
       "  & G1 & G2 & Fedu & Medu & studytime & famrel & freetime & absences\\\\\n",
       "  & <int> & <int> & <int> & <int> & <int> & <int> & <int> & <dbl>\\\\\n",
       "\\hline\n",
       "\t1 &  5 &  6 & 4 & 4 & 2 & 4 & 4 &  5\\\\\n",
       "\t2 &  5 &  5 & 1 & 1 & 2 & 5 & 4 &  5\\\\\n",
       "\t3 &  7 &  8 & 1 & 1 & 2 & 4 & 4 & 10\\\\\n",
       "\t4 & 15 & 14 & 2 & 4 & 3 & 3 & 3 &  2\\\\\n",
       "\t5 &  6 & 10 & 3 & 3 & 2 & 4 & 4 &  4\\\\\n",
       "\t6 & 15 & 15 & 3 & 4 & 2 & 5 & 5 & 10\\\\\n",
       "\t7 & 12 & 12 & 2 & 2 & 2 & 4 & 5 &  0\\\\\n",
       "\t30 & 10 & 12 & 4 & 4 & 2 & 4 & 5 & 16\\\\\n",
       "\t31 &  9 & 11 & 4 & 4 & 2 & 5 & 5 &  0\\\\\n",
       "\t32 & 17 & 16 & 4 & 4 & 2 & 4 & 4 &  0\\\\\n",
       "\t33 & 17 & 16 & 3 & 4 & 2 & 4 & 6 &  0\\\\\n",
       "\t34 &  8 & 10 & 3 & 3 & 2 & 5 & 4 &  0\\\\\n",
       "\t35 & 12 & 14 & 2 & 3 & 1 & 5 & 5 &  0\\\\\n",
       "\t36 &  8 &  7 & 3 & 2 & 1 & 3 & 6 &  0\\\\\n",
       "\t37 & 15 & 16 & 3 & 4 & 3 & 5 & 5 &  2\\\\\n",
       "\t38 & 15 & 16 & 4 & 4 & 3 & 2 & 5 &  7\\\\\n",
       "\t39 & 12 & 12 & 4 & 3 & 3 & 4 & 4 &  2\\\\\n",
       "\t40 & 14 & 13 & 2 & 2 & 1 & 4 & 4 &  8\\\\\n",
       "\t41 &  7 & 10 & 2 & 2 & 2 & 3 & 4 & 20\\\\\n",
       "\t42 & 12 & 12 & 4 & 4 & 1 & 5 & 5 &  8\\\\\n",
       "\t43 & 19 & 18 & 4 & 4 & 2 & 4 & 4 &  2\\\\\n",
       "\t44 &  8 &  8 & 2 & 2 & 1 & 5 & 5 &  0\\\\\n",
       "\t45 & 10 & 10 & 2 & 2 & 2 & 4 & 4 & 14\\\\\n",
       "\t46 &  8 &  8 & 3 & 4 & 2 & 5 & 3 &  8\\\\\n",
       "\t47 & 11 & 12 & 3 & 3 & 2 & 2 & 4 & 12\\\\\n",
       "\t48 & 19 & 19 & 3 & 4 & 4 & 4 & 3 &  4\\\\\n",
       "\t49 & 15 & 15 & 2 & 4 & 2 & 4 & 4 &  2\\\\\n",
       "\t50 &  7 &  7 & 4 & 4 & 2 & 4 & 5 &  2\\\\\n",
       "\t51 & 12 & 13 & 2 & 2 & 2 & 4 & 4 &  2\\\\\n",
       "\t52 & 11 & 13 & 2 & 4 & 2 & 4 & 4 &  2\\\\\n",
       "\t⋮ & ⋮ & ⋮ & ⋮ & ⋮ & ⋮ & ⋮ & ⋮ & ⋮\\\\\n",
       "\t366 & 10 & 10 & 3 & 1 & 2 & 3 & 4 &  4\\\\\n",
       "\t367 & 13 & 13 & 4 & 4 & 3 & 4 & 3 &  0\\\\\n",
       "\t368 &  7 &  6 & 1 & 1 & 1 & 5 & 3 &  0\\\\\n",
       "\t369 & 11 & 10 & 3 & 2 & 1 & 5 & 3 &  0\\\\\n",
       "\t370 & 14 & 12 & 4 & 4 & 2 & 3 & 3 & 10\\\\\n",
       "\t371 &  7 &  7 & 2 & 3 & 2 & 3 & 3 &  4\\\\\n",
       "\t372 & 14 & 12 & 2 & 1 & 1 & 4 & 4 &  3\\\\\n",
       "\t373 & 13 & 11 & 2 & 2 & 3 & 3 & 5 &  8\\\\\n",
       "\t374 &  6 &  5 & 2 & 1 & 1 & 3 & 6 & 14\\\\\n",
       "\t375 & 19 & 18 & 4 & 4 & 3 & 5 & 5 &  0\\\\\n",
       "\t376 &  8 &  8 & 1 & 1 & 3 & 4 & 4 &  2\\\\\n",
       "\t377 & 15 & 14 & 2 & 4 & 3 & 5 & 5 &  4\\\\\n",
       "\t378 &  8 &  9 & 4 & 4 & 2 & 5 & 5 &  4\\\\\n",
       "\t379 & 15 & 15 & 3 & 3 & 2 & 4 & 2 &  0\\\\\n",
       "\t380 & 10 & 10 & 1 & 3 & 2 & 4 & 6 & 17\\\\\n",
       "\t381 & 15 & 14 & 4 & 4 & 2 & 3 & 3 &  4\\\\\n",
       "\t382 &  7 &  6 & 1 & 2 & 1 & 4 & 5 &  5\\\\\n",
       "\t383 & 11 & 11 & 3 & 2 & 2 & 4 & 5 &  2\\\\\n",
       "\t384 &  6 &  5 & 1 & 1 & 1 & 4 & 4 &  0\\\\\n",
       "\t385 &  6 &  5 & 2 & 4 & 1 & 5 & 5 & 14\\\\\n",
       "\t386 & 10 &  9 & 2 & 2 & 3 & 5 & 4 &  2\\\\\n",
       "\t387 &  6 &  5 & 4 & 4 & 1 & 4 & 5 &  7\\\\\n",
       "\t388 &  7 &  5 & 3 & 2 & 3 & 5 & 5 &  0\\\\\n",
       "\t389 &  7 &  9 & 1 & 3 & 2 & 4 & 4 &  0\\\\\n",
       "\t390 &  6 &  5 & 1 & 1 & 2 & 1 & 2 &  0\\\\\n",
       "\t391 &  9 &  9 & 2 & 2 & 2 & 5 & 6 & 11\\\\\n",
       "\t392 & 14 & 16 & 1 & 3 & 1 & 2 & 5 &  3\\\\\n",
       "\t393 & 10 &  8 & 1 & 1 & 1 & 5 & 6 &  3\\\\\n",
       "\t394 & 11 & 12 & 2 & 3 & 1 & 4 & 5 &  0\\\\\n",
       "\t395 &  8 &  9 & 1 & 1 & 1 & 3 & 3 &  5\\\\\n",
       "\\end{tabular}\n"
      ],
      "text/markdown": [
       "\n",
       "A data.frame: 373 × 8\n",
       "\n",
       "| <!--/--> | G1 &lt;int&gt; | G2 &lt;int&gt; | Fedu &lt;int&gt; | Medu &lt;int&gt; | studytime &lt;int&gt; | famrel &lt;int&gt; | freetime &lt;int&gt; | absences &lt;dbl&gt; |\n",
       "|---|---|---|---|---|---|---|---|---|\n",
       "| 1 |  5 |  6 | 4 | 4 | 2 | 4 | 4 |  5 |\n",
       "| 2 |  5 |  5 | 1 | 1 | 2 | 5 | 4 |  5 |\n",
       "| 3 |  7 |  8 | 1 | 1 | 2 | 4 | 4 | 10 |\n",
       "| 4 | 15 | 14 | 2 | 4 | 3 | 3 | 3 |  2 |\n",
       "| 5 |  6 | 10 | 3 | 3 | 2 | 4 | 4 |  4 |\n",
       "| 6 | 15 | 15 | 3 | 4 | 2 | 5 | 5 | 10 |\n",
       "| 7 | 12 | 12 | 2 | 2 | 2 | 4 | 5 |  0 |\n",
       "| 30 | 10 | 12 | 4 | 4 | 2 | 4 | 5 | 16 |\n",
       "| 31 |  9 | 11 | 4 | 4 | 2 | 5 | 5 |  0 |\n",
       "| 32 | 17 | 16 | 4 | 4 | 2 | 4 | 4 |  0 |\n",
       "| 33 | 17 | 16 | 3 | 4 | 2 | 4 | 6 |  0 |\n",
       "| 34 |  8 | 10 | 3 | 3 | 2 | 5 | 4 |  0 |\n",
       "| 35 | 12 | 14 | 2 | 3 | 1 | 5 | 5 |  0 |\n",
       "| 36 |  8 |  7 | 3 | 2 | 1 | 3 | 6 |  0 |\n",
       "| 37 | 15 | 16 | 3 | 4 | 3 | 5 | 5 |  2 |\n",
       "| 38 | 15 | 16 | 4 | 4 | 3 | 2 | 5 |  7 |\n",
       "| 39 | 12 | 12 | 4 | 3 | 3 | 4 | 4 |  2 |\n",
       "| 40 | 14 | 13 | 2 | 2 | 1 | 4 | 4 |  8 |\n",
       "| 41 |  7 | 10 | 2 | 2 | 2 | 3 | 4 | 20 |\n",
       "| 42 | 12 | 12 | 4 | 4 | 1 | 5 | 5 |  8 |\n",
       "| 43 | 19 | 18 | 4 | 4 | 2 | 4 | 4 |  2 |\n",
       "| 44 |  8 |  8 | 2 | 2 | 1 | 5 | 5 |  0 |\n",
       "| 45 | 10 | 10 | 2 | 2 | 2 | 4 | 4 | 14 |\n",
       "| 46 |  8 |  8 | 3 | 4 | 2 | 5 | 3 |  8 |\n",
       "| 47 | 11 | 12 | 3 | 3 | 2 | 2 | 4 | 12 |\n",
       "| 48 | 19 | 19 | 3 | 4 | 4 | 4 | 3 |  4 |\n",
       "| 49 | 15 | 15 | 2 | 4 | 2 | 4 | 4 |  2 |\n",
       "| 50 |  7 |  7 | 4 | 4 | 2 | 4 | 5 |  2 |\n",
       "| 51 | 12 | 13 | 2 | 2 | 2 | 4 | 4 |  2 |\n",
       "| 52 | 11 | 13 | 2 | 4 | 2 | 4 | 4 |  2 |\n",
       "| ⋮ | ⋮ | ⋮ | ⋮ | ⋮ | ⋮ | ⋮ | ⋮ | ⋮ |\n",
       "| 366 | 10 | 10 | 3 | 1 | 2 | 3 | 4 |  4 |\n",
       "| 367 | 13 | 13 | 4 | 4 | 3 | 4 | 3 |  0 |\n",
       "| 368 |  7 |  6 | 1 | 1 | 1 | 5 | 3 |  0 |\n",
       "| 369 | 11 | 10 | 3 | 2 | 1 | 5 | 3 |  0 |\n",
       "| 370 | 14 | 12 | 4 | 4 | 2 | 3 | 3 | 10 |\n",
       "| 371 |  7 |  7 | 2 | 3 | 2 | 3 | 3 |  4 |\n",
       "| 372 | 14 | 12 | 2 | 1 | 1 | 4 | 4 |  3 |\n",
       "| 373 | 13 | 11 | 2 | 2 | 3 | 3 | 5 |  8 |\n",
       "| 374 |  6 |  5 | 2 | 1 | 1 | 3 | 6 | 14 |\n",
       "| 375 | 19 | 18 | 4 | 4 | 3 | 5 | 5 |  0 |\n",
       "| 376 |  8 |  8 | 1 | 1 | 3 | 4 | 4 |  2 |\n",
       "| 377 | 15 | 14 | 2 | 4 | 3 | 5 | 5 |  4 |\n",
       "| 378 |  8 |  9 | 4 | 4 | 2 | 5 | 5 |  4 |\n",
       "| 379 | 15 | 15 | 3 | 3 | 2 | 4 | 2 |  0 |\n",
       "| 380 | 10 | 10 | 1 | 3 | 2 | 4 | 6 | 17 |\n",
       "| 381 | 15 | 14 | 4 | 4 | 2 | 3 | 3 |  4 |\n",
       "| 382 |  7 |  6 | 1 | 2 | 1 | 4 | 5 |  5 |\n",
       "| 383 | 11 | 11 | 3 | 2 | 2 | 4 | 5 |  2 |\n",
       "| 384 |  6 |  5 | 1 | 1 | 1 | 4 | 4 |  0 |\n",
       "| 385 |  6 |  5 | 2 | 4 | 1 | 5 | 5 | 14 |\n",
       "| 386 | 10 |  9 | 2 | 2 | 3 | 5 | 4 |  2 |\n",
       "| 387 |  6 |  5 | 4 | 4 | 1 | 4 | 5 |  7 |\n",
       "| 388 |  7 |  5 | 3 | 2 | 3 | 5 | 5 |  0 |\n",
       "| 389 |  7 |  9 | 1 | 3 | 2 | 4 | 4 |  0 |\n",
       "| 390 |  6 |  5 | 1 | 1 | 2 | 1 | 2 |  0 |\n",
       "| 391 |  9 |  9 | 2 | 2 | 2 | 5 | 6 | 11 |\n",
       "| 392 | 14 | 16 | 1 | 3 | 1 | 2 | 5 |  3 |\n",
       "| 393 | 10 |  8 | 1 | 1 | 1 | 5 | 6 |  3 |\n",
       "| 394 | 11 | 12 | 2 | 3 | 1 | 4 | 5 |  0 |\n",
       "| 395 |  8 |  9 | 1 | 1 | 1 | 3 | 3 |  5 |\n",
       "\n"
      ],
      "text/plain": [
       "    G1 G2 Fedu Medu studytime famrel freetime absences\n",
       "1    5  6 4    4    2         4      4         5      \n",
       "2    5  5 1    1    2         5      4         5      \n",
       "3    7  8 1    1    2         4      4        10      \n",
       "4   15 14 2    4    3         3      3         2      \n",
       "5    6 10 3    3    2         4      4         4      \n",
       "6   15 15 3    4    2         5      5        10      \n",
       "7   12 12 2    2    2         4      5         0      \n",
       "30  10 12 4    4    2         4      5        16      \n",
       "31   9 11 4    4    2         5      5         0      \n",
       "32  17 16 4    4    2         4      4         0      \n",
       "33  17 16 3    4    2         4      6         0      \n",
       "34   8 10 3    3    2         5      4         0      \n",
       "35  12 14 2    3    1         5      5         0      \n",
       "36   8  7 3    2    1         3      6         0      \n",
       "37  15 16 3    4    3         5      5         2      \n",
       "38  15 16 4    4    3         2      5         7      \n",
       "39  12 12 4    3    3         4      4         2      \n",
       "40  14 13 2    2    1         4      4         8      \n",
       "41   7 10 2    2    2         3      4        20      \n",
       "42  12 12 4    4    1         5      5         8      \n",
       "43  19 18 4    4    2         4      4         2      \n",
       "44   8  8 2    2    1         5      5         0      \n",
       "45  10 10 2    2    2         4      4        14      \n",
       "46   8  8 3    4    2         5      3         8      \n",
       "47  11 12 3    3    2         2      4        12      \n",
       "48  19 19 3    4    4         4      3         4      \n",
       "49  15 15 2    4    2         4      4         2      \n",
       "50   7  7 4    4    2         4      5         2      \n",
       "51  12 13 2    2    2         4      4         2      \n",
       "52  11 13 2    4    2         4      4         2      \n",
       "⋮   ⋮  ⋮  ⋮    ⋮    ⋮         ⋮      ⋮        ⋮       \n",
       "366 10 10 3    1    2         3      4         4      \n",
       "367 13 13 4    4    3         4      3         0      \n",
       "368  7  6 1    1    1         5      3         0      \n",
       "369 11 10 3    2    1         5      3         0      \n",
       "370 14 12 4    4    2         3      3        10      \n",
       "371  7  7 2    3    2         3      3         4      \n",
       "372 14 12 2    1    1         4      4         3      \n",
       "373 13 11 2    2    3         3      5         8      \n",
       "374  6  5 2    1    1         3      6        14      \n",
       "375 19 18 4    4    3         5      5         0      \n",
       "376  8  8 1    1    3         4      4         2      \n",
       "377 15 14 2    4    3         5      5         4      \n",
       "378  8  9 4    4    2         5      5         4      \n",
       "379 15 15 3    3    2         4      2         0      \n",
       "380 10 10 1    3    2         4      6        17      \n",
       "381 15 14 4    4    2         3      3         4      \n",
       "382  7  6 1    2    1         4      5         5      \n",
       "383 11 11 3    2    2         4      5         2      \n",
       "384  6  5 1    1    1         4      4         0      \n",
       "385  6  5 2    4    1         5      5        14      \n",
       "386 10  9 2    2    3         5      4         2      \n",
       "387  6  5 4    4    1         4      5         7      \n",
       "388  7  5 3    2    3         5      5         0      \n",
       "389  7  9 1    3    2         4      4         0      \n",
       "390  6  5 1    1    2         1      2         0      \n",
       "391  9  9 2    2    2         5      6        11      \n",
       "392 14 16 1    3    1         2      5         3      \n",
       "393 10  8 1    1    1         5      6         3      \n",
       "394 11 12 2    3    1         4      5         0      \n",
       "395  8  9 1    1    1         3      3         5      "
      ]
     },
     "metadata": {},
     "output_type": "display_data"
    }
   ],
   "source": [
    "# TODO: Select which columns have strong relashionship with G3 column\n",
    "\n",
    "# G3 are correlated with G1, G2, Fedu, Medu, studytime, famrel, freetime, and absences\n",
    "# High correlation with G1, G2\n",
    "# Midem correlated with Fedu, Medu, studytime, and absences\n",
    "selected_columns <- c(\"G1\", \"G2\", \"Fedu\", \"Medu\", \"studytime\", \"famrel\", \"freetime\", \"absences\")\n",
    "\n",
    "data_selected <- data_clean[, selected_columns]\n",
    "\n",
    "data_selected"
   ]
  },
  {
   "cell_type": "code",
   "execution_count": 33,
   "metadata": {
    "vscode": {
     "languageId": "r"
    }
   },
   "outputs": [],
   "source": [
    "# TODO: Extract these columns in a new dataframe\n",
    "\n",
    "write.csv(data_selected, \"math-clean.csv\", row.names = FALSE)"
   ]
  }
 ],
 "metadata": {
  "kernelspec": {
   "display_name": "R",
   "language": "R",
   "name": "ir"
  },
  "language_info": {
   "codemirror_mode": "r",
   "file_extension": ".r",
   "mimetype": "text/x-r-source",
   "name": "R",
   "pygments_lexer": "r",
   "version": "4.4.1"
  }
 },
 "nbformat": 4,
 "nbformat_minor": 2
}
